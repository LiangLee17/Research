{
 "cells": [
  {
   "cell_type": "markdown",
   "metadata": {},
   "source": [
    "# 第三章　随机抽样\n",
    "\n",
    "\n",
    "作者：[王何宇](http://person.zju.edu.cn/wangheyu)\n",
    "\n",
    "[浙江大学数学科学学院](http://www.math.zju.edu.cn)\n",
    "\n",
    "上一章我们讨论了最简单的随机分布，均匀分布随机数的产生方法。有了这个均\n",
    "匀分布随机数的基础，这一章我们将进一步讨论如何产生各种所需的随机变量和\n",
    "随机过程。首先我们回顾一下概率论的一些基本定义。\n",
    "\n",
    "## 基础知识回顾\n",
    "我们用概率分布来描述一个随机变量服从的分布规律，具体来说，离散型随机变\n",
    "量的概率分布称为"
   ]
  },
  {
   "cell_type": "markdown",
   "metadata": {},
   "source": [
    "**概率质量函数（Probability Mass Function, PMF)**\n",
    "若离散型随机变量 $\\xi$ 取值为 $x_1, x_2, \\cdots, x_n$ 的概率分别为 $p_1, p_2, \\cdots, p_n$, 即\n",
    "$$\n",
    "\\begin{equation}\n",
    "    P(\\xi = x_i) = p_i, i = 1, 2, \\cdots, n,\n",
    "    \\label{eq::dis_df}\n",
    "\\end{equation}\n",
    "$$\n",
    "则其概率分布函数\n",
    "$$  \n",
    "\\begin{equation}\n",
    "f(x) = \\left\\{\n",
    "    \\begin{array}{ll}\n",
    "      p_i, & x \\in S,\\\\\n",
    "      0, & x \\in \\mathbb{R}\\setminus S\n",
    "    \\end{array}\\right.\n",
    "    \\label{eq::dis_pmf}\n",
    "  \\end{equation}\n",
    "$$\n",
    "又称为概率质量函数，简称为 PMF。其中 $S = \\{x_1, x_2, \\cdots, x_n\\}$ 称为样本集。显然，在离散的情形下，有\n",
    "$$\n",
    "\\sum_{x_i \\in S}p_i = \\sum_{i = 1}^np_i = 1.\n",
    "$$"
   ]
  },
  {
   "cell_type": "markdown",
   "metadata": {},
   "source": [
    "**累积分布函数（Cumulative Distribution Function, CDF）**\n",
    "称\n",
    "$$\n",
    "  \\begin{equation}\n",
    "    F(x) = P(\\xi \\leq x) = \\sum_{x_i \\leq x}p_i, x \\in \\mathbb{R}\n",
    "    \\label{eq::dis_cdf}\n",
    "  \\end{equation}\n",
    "$$  \n",
    "为累积分布函数，简称为CDF。"
   ]
  },
  {
   "cell_type": "markdown",
   "metadata": {},
   "source": [
    "**两点分布** 两点分布的 PMF 为\n",
    "$$\n",
    "  \\begin{equation}\n",
    "    f(x) = \\left\\{\\begin{array}{ll}\n",
    "    0.5, &x = 0; \\\\\n",
    "    0.5, &x = 1;\\\\\n",
    "    0, &x \\notin \\{0, 1\\}.\n",
    "    \\end{array}\\right.\n",
    "    \\label{eq::2p_PMF}\n",
    "  \\end{equation}\n",
    "$$  \n",
    "对应的CDF为\n",
    "$$  \n",
    "\\begin{equation}\n",
    "    F(x) = \\left\\{\\begin{array}{ll}\n",
    "    0, & x < 0; \\\\\n",
    "    0.5, &0 \\leq x < 1; \\\\\n",
    "    1, &x = 1.\n",
    "    \\end{array}\\right.\n",
    "    \\label{eq::2p_CDF}\n",
    "  \\end{equation}\n",
    "$$  "
   ]
  },
  {
   "cell_type": "markdown",
   "metadata": {},
   "source": [
    "更常见的，离散型随机变量的特征会像下面那样表示。"
   ]
  },
  {
   "cell_type": "markdown",
   "metadata": {},
   "source": [
    "**二项分布** 的PMF一般写做\n",
    "$$\n",
    "\\begin{equation}\n",
    "  b(k; n, p) = \\binom{n}{k}p^k(1 - p)^{n - k}, 0 < p < 1, k = 0, 1, \\cdots, n.\n",
    "  \\label{eq::binom_PMF}\n",
    "\\end{equation}\n",
    "$$"
   ]
  },
  {
   "cell_type": "markdown",
   "metadata": {},
   "source": [
    "随机模拟的一个重要步骤是根据需要产生服从各种分布的样本集。之前我们已经讨论过如何产生服从 $U(0, 1)$ 的均匀分布的随机数，那么现在，我们就要从服从 $U(0, 1)$ 的均匀分布的随机序列出发，产生独立同分布的目标随机数序列。这里两个问题的解决是各自独立的。首先随机序列的独立性完全由均匀分布的随机序列的独立性决定，这在上一章已经讨论。我们接下去主要讨论如何确保随机序列同分布，也即和要求的目标分布一致。这里还有一个重要问题是产生效率，因为我们必须在计算机上算法实现。"
   ]
  },
  {
   "cell_type": "markdown",
   "metadata": {},
   "source": [
    "## 直接抽样方法\n",
    "\n",
    "如果随机变量的 PMF 是已知的，那么我们可以从均匀分布的随机数出发，直接根据概率论定义构建抽样算法。这种方法称为直接抽样方法。即产生均匀分布的随机序列，然后通过某种变换或抽取，使得从中变换抽取后的随机数样本集 $X$ 服从 $F(x)$，这里 $F(x)$ 是已知积累分布函数。也即要求 $\\forall \\xi \\sim F$，\n",
    "$$\n",
    "\\begin{equation}\n",
    "  P(\\xi \\leq x) = F(x), x \\in \\mathbb{R}.\n",
    "  \\label{eq::def_cdf}\n",
    "\\end{equation}\n",
    "$$\n",
    "这里，一方面，我们要从算法保证（证明）$X$ 确实服从指定分布 $F(x)$；另一方面，对于一个实际的产生的抽样结果，也要能通过指定的统计检验。"
   ]
  },
  {
   "cell_type": "markdown",
   "metadata": {},
   "source": [
    "### 逆变换算法\n",
    "\n",
    "1947 年，曼哈顿计划的参与者 Stanislaw Marein Ulam 提出了逆变换算法，注意到随机变量 $\\xi$ 的累积分布函数 $F(x): \\mathbb{R} \\mapsto [0, 1]$ 是非降的，故定义其逆函数为\n",
    "$$\n",
    "\\begin{equation}\n",
    "  F^{-1}: [0, 1] \\mapsto \\mathbb{R}, F^{-1}(y) = \\inf \\{x \\left| F(x).\n",
    "  \\geq y \\right.\\}\n",
    "  \\label{eq::inv_cdf}\n",
    "\\end{equation}\n",
    "$$\n",
    "\n",
    "**证明：** $\\forall x \\in \\mathbb{R}$，\n",
    "$$\n",
    "  \\begin{equation}\n",
    "    P(\\xi \\leq x) = P(F^{-1}(\\eta) \\leq x) = P(\\eta \\leq F(x)) = F(x).\n",
    "    \\label{eq::prof_inv_cdf}\n",
    "  \\end{equation}\n",
    "$$"
   ]
  },
  {
   "cell_type": "markdown",
   "metadata": {},
   "source": [
    "所以我们算法的设计思路就是对一个均匀分布的随机数序列 $U$，求其逆变换 $X = F^{-1}(U)$，则 $X$ 的分布服从 $F(x)$。\n"
   ]
  },
  {
   "cell_type": "markdown",
   "metadata": {},
   "source": [
    "### 列表查找法\n",
    "\n",
    "这种做法一般针对离散分布，特别是能给出分布表的离散分布。若离散分布的 PMF 表为\n",
    "$$\n",
    "\\begin{array}{cccc}\n",
    "  x_0 & x_1 & \\cdots & x_n \\\\\n",
    "  p_0 & p_1 & \\cdots & p_n,\n",
    "\\end{array}\n",
    "$$\n",
    "且 $x_0 < x_1 < \\cdots < x_n$, 则我们不难构建CDF表\n",
    "$$\n",
    "\\begin{array}{cccccc}\n",
    "  x_0 & x_1 & \\cdots & x_k & \\cdots & x_n \\\\\n",
    "  F_0 = p_0 & F_1 = p_0 +  p_1 & \\cdots\n",
    "  & F_k = \\sum_{i = 0}^k p_i & \\cdots & F_n \\equiv 1.\n",
    "\\end{array}\n",
    "$$\n",
    "根据 PMF 定义，$\\forall x \\notin \\{x_0, x_1, \\cdots, x_n\\}$，有$f(x) = 0$，故我们可以认为 $F_{-1} = 0$。\n",
    "现在对$\\eta \\sim U(0, 1)$, 必有$0 \\leq k \\leq n$（为什么？）, 满足\n",
    "$$\n",
    "\\begin{equation}\n",
    "  \\label{eq::def_dis_pmf}\n",
    "F_{k - 1} < \\eta \\leq F_k,\n",
    "\\end{equation}\n",
    "$$\n",
    "则可取 $\\xi = x_k$。从PMF角度，就是\n",
    "$$\n",
    "\\begin{equation}\n",
    "  \\xi = \\min\\left\\{x_k\\left|\\eta \\leq \\sum_{i = 0}^kf(x_i)\\right.\\right\\}, \\eta \\sim U(0, 1).\n",
    "  \\label{eq::dis_inv}\n",
    "\\end{equation}\n",
    "$$\n",
    "在具体的抽取算法中，这一过程就是查表。对于较长的表，可以采用二分查找。"
   ]
  },
  {
   "cell_type": "code",
   "execution_count": 1,
   "metadata": {},
   "outputs": [],
   "source": [
    "from __future__ import print_function, division\n",
    "\n",
    "# 这句话是非标准的python，用于ipthon或jupyter这样的系统中，表示绘图即刻自动展开。\n",
    "%matplotlib inline\n",
    "\n",
    "# 这里把全部Warning过滤掉了. \n",
    "# 参见https://docs.python.org/2/library/warnings.html\n",
    "import warnings\n",
    "warnings.filterwarnings('ignore')\n",
    "from scipy.special import comb, perm\n",
    "from scipy import stats\n",
    "import numpy as np\n",
    "import sys\n",
    "import matplotlib.pyplot as plt\n",
    "np.random.seed(250)"
   ]
  },
  {
   "cell_type": "markdown",
   "metadata": {},
   "source": [
    "## 离散分布举例\n",
    "下面产生一个服从$n，p$的二项分布。"
   ]
  },
  {
   "cell_type": "code",
   "execution_count": 2,
   "metadata": {},
   "outputs": [],
   "source": [
    "n = 10\n",
    "p = 0.3\n",
    "k = np.arange(0, n + 1, 1)\n",
    "# 生成器，在具体调用时产生序列。\n",
    "PMF = [stats.binom.pmf(i, n, p) for i in k] "
   ]
  },
  {
   "cell_type": "code",
   "execution_count": 3,
   "metadata": {},
   "outputs": [
    {
     "name": "stdout",
     "output_type": "stream",
     "text": [
      "[0.028247524900000005, 0.12106082100000018, 0.2334744405, 0.26682793200000016, 0.20012094900000013, 0.10291934520000007, 0.03675690899999999, 0.009001692000000002, 0.0014467004999999982, 0.00013778100000000015, 5.904899999999995e-06]\n"
     ]
    }
   ],
   "source": [
    "print(PMF) # 表格中数据"
   ]
  },
  {
   "cell_type": "markdown",
   "metadata": {},
   "source": [
    "接下去绘制PMF和CDF的插图。这里也可以学习一下Python如何绘图。"
   ]
  },
  {
   "cell_type": "code",
   "execution_count": 4,
   "metadata": {},
   "outputs": [
    {
     "data": {
      "image/png": "[encoded data removed]",
      "text/plain": [
       "<Figure size 432x288 with 1 Axes>"
      ]
     },
     "metadata": {
      "needs_background": "light"
     },
     "output_type": "display_data"
    }
   ],
   "source": [
    "for i in k:\n",
    "    plt.plot([k[i], k[i]],[0,PMF[i]],'b-') # 画n + 1条直线。\n",
    "    plt.plot(k[i], PMF[i],'bo') # 顶部画个点。\n",
    "plt.xticks(fontsize=15) # 调整一下标记字体。\n",
    "plt.yticks(fontsize=15)\n",
    "plt.xlabel(r'PMF',fontsize=15) # 加标题。\n",
    "plt.savefig('PMF_bin.pdf')"
   ]
  },
  {
   "cell_type": "markdown",
   "metadata": {},
   "source": [
    "将PMF累加即得离散分布的CDF，也即\n",
    "$$\n",
    "F(x_k) = \\sum_{-\\infty}^k f(x_i).\n",
    "$$"
   ]
  },
  {
   "cell_type": "code",
   "execution_count": 5,
   "metadata": {},
   "outputs": [
    {
     "data": {
      "image/png": "[encoded data removed]",
      "text/plain": [
       "<Figure size 432x288 with 1 Axes>"
      ]
     },
     "metadata": {
      "needs_background": "light"
     },
     "output_type": "display_data"
    }
   ],
   "source": [
    "fig = plt.figure()\n",
    "c = 0\n",
    "CDF = [0]*(n + 1)\n",
    "for i in range(n):\n",
    "    c += PMF[i]\n",
    "    CDF[i] = c\n",
    "    plt.plot([k[i], k[i + 1]],[c, c],'b-') \n",
    "    # ''表示无颜色，但又给了edgecolors，就是为了画个空圈。s是大小。\n",
    "    plt.scatter(k[i + 1], c, color='', marker='o', edgecolors='b', s=40)\n",
    "    plt.scatter(k[i], c, color='b',marker='o', s=40)\n",
    "plt.scatter(0, 0, color='',marker='o', edgecolors='b', s=40)\n",
    "plt.scatter(n, 1, color='b',marker='o', s=40)\n",
    "plt.xticks(fontsize=15)\n",
    "plt.yticks(fontsize=15)\n",
    "plt.xlabel(r'CDF',fontsize=15)\n",
    "plt.savefig('CDF_bin.pdf')\n",
    "CDF[n] = 1"
   ]
  },
  {
   "cell_type": "markdown",
   "metadata": {},
   "source": [
    "构建一个用于二分法查表的函数。稍微有一些针对性处理。关于二分查找和递归过程的内容可参考MIT的网络公开课《算法导论》，03年版。"
   ]
  },
  {
   "cell_type": "code",
   "execution_count": 6,
   "metadata": {},
   "outputs": [
    {
     "data": {
      "text/plain": [
       "0.9999940951000004"
      ]
     },
     "execution_count": 6,
     "metadata": {},
     "output_type": "execute_result"
    }
   ],
   "source": [
    "CDF[9]"
   ]
  },
  {
   "cell_type": "code",
   "execution_count": 7,
   "metadata": {},
   "outputs": [],
   "source": [
    "def bisection_search(F, eta, start, end):\n",
    "    if (eta <= F[start]):\n",
    "        return start\n",
    "    n = end - start\n",
    "    if (n <= 0):\n",
    "        sys.exit()\n",
    "    k = (start + end) // 2\n",
    "    if (eta > F[k]):\n",
    "        if (eta <= F[k + 1]):\n",
    "            return k + 1\n",
    "        else:\n",
    "            return bisection_search(F, eta, k + 1, end)\n",
    "    else:\n",
    "        return bisection_search(F, eta, start, k)"
   ]
  },
  {
   "cell_type": "markdown",
   "metadata": {},
   "source": [
    "做1000000次随机抽取，形成二项分布的随机序列X。"
   ]
  },
  {
   "cell_type": "code",
   "execution_count": 8,
   "metadata": {},
   "outputs": [
    {
     "data": {
      "text/plain": [
       "9"
      ]
     },
     "execution_count": 8,
     "metadata": {},
     "output_type": "execute_result"
    }
   ],
   "source": [
    "U = np.random.rand(100000)\n",
    "X = [bisection_search(CDF, U[i], 0, n) for i in range(100000)]\n",
    "max(X)"
   ]
  },
  {
   "cell_type": "markdown",
   "metadata": {},
   "source": [
    "用统计来验证我们生成的随机序列确实服从目标分布。"
   ]
  },
  {
   "cell_type": "code",
   "execution_count": 9,
   "metadata": {
    "scrolled": true
   },
   "outputs": [
    {
     "ename": "AttributeError",
     "evalue": "'Rectangle' object has no property 'normed'",
     "output_type": "error",
     "traceback": [
      "\u001b[0;31m---------------------------------------------------------------------------\u001b[0m",
      "\u001b[0;31mAttributeError\u001b[0m                            Traceback (most recent call last)",
      "\u001b[0;32m<ipython-input-9-ae1816c7dbf2>\u001b[0m in \u001b[0;36m<module>\u001b[0;34m\u001b[0m\n\u001b[0;32m----> 1\u001b[0;31m \u001b[0mplt\u001b[0m\u001b[0;34m.\u001b[0m\u001b[0mhist\u001b[0m\u001b[0;34m(\u001b[0m\u001b[0mX\u001b[0m\u001b[0;34m,\u001b[0m \u001b[0mnormed\u001b[0m\u001b[0;34m=\u001b[0m\u001b[0;32mTrue\u001b[0m\u001b[0;34m,\u001b[0m \u001b[0mlabel\u001b[0m\u001b[0;34m=\u001b[0m\u001b[0;34m\"Stat. of the Sampling\"\u001b[0m\u001b[0;34m)\u001b[0m\u001b[0;34m;\u001b[0m\u001b[0;34m\u001b[0m\u001b[0;34m\u001b[0m\u001b[0m\n\u001b[0m\u001b[1;32m      2\u001b[0m \u001b[0mplt\u001b[0m\u001b[0;34m.\u001b[0m\u001b[0mplot\u001b[0m\u001b[0;34m(\u001b[0m\u001b[0mPMF\u001b[0m\u001b[0;34m,\u001b[0m \u001b[0mlabel\u001b[0m\u001b[0;34m=\u001b[0m\u001b[0;34mr\"PMF, $b(10, 0.3)$\"\u001b[0m\u001b[0;34m)\u001b[0m\u001b[0;34m\u001b[0m\u001b[0;34m\u001b[0m\u001b[0m\n\u001b[1;32m      3\u001b[0m \u001b[0mplt\u001b[0m\u001b[0;34m.\u001b[0m\u001b[0mlegend\u001b[0m\u001b[0;34m(\u001b[0m\u001b[0;34m)\u001b[0m\u001b[0;34m\u001b[0m\u001b[0;34m\u001b[0m\u001b[0m\n\u001b[1;32m      4\u001b[0m \u001b[0mplt\u001b[0m\u001b[0;34m.\u001b[0m\u001b[0mxlabel\u001b[0m\u001b[0;34m(\u001b[0m\u001b[0;34mr\"Statistical Test of the Samples\"\u001b[0m\u001b[0;34m)\u001b[0m\u001b[0;34m\u001b[0m\u001b[0;34m\u001b[0m\u001b[0m\n\u001b[1;32m      5\u001b[0m \u001b[0mplt\u001b[0m\u001b[0;34m.\u001b[0m\u001b[0msavefig\u001b[0m\u001b[0;34m(\u001b[0m\u001b[0;34m'test_bin.pdf'\u001b[0m\u001b[0;34m)\u001b[0m\u001b[0;34m\u001b[0m\u001b[0;34m\u001b[0m\u001b[0m\n",
      "\u001b[0;32m~/anaconda3/lib/python3.8/site-packages/matplotlib/pyplot.py\u001b[0m in \u001b[0;36mhist\u001b[0;34m(x, bins, range, density, weights, cumulative, bottom, histtype, align, orientation, rwidth, log, color, label, stacked, data, **kwargs)\u001b[0m\n\u001b[1;32m   2683\u001b[0m         \u001b[0morientation\u001b[0m\u001b[0;34m=\u001b[0m\u001b[0;34m'vertical'\u001b[0m\u001b[0;34m,\u001b[0m \u001b[0mrwidth\u001b[0m\u001b[0;34m=\u001b[0m\u001b[0;32mNone\u001b[0m\u001b[0;34m,\u001b[0m \u001b[0mlog\u001b[0m\u001b[0;34m=\u001b[0m\u001b[0;32mFalse\u001b[0m\u001b[0;34m,\u001b[0m \u001b[0mcolor\u001b[0m\u001b[0;34m=\u001b[0m\u001b[0;32mNone\u001b[0m\u001b[0;34m,\u001b[0m\u001b[0;34m\u001b[0m\u001b[0;34m\u001b[0m\u001b[0m\n\u001b[1;32m   2684\u001b[0m         label=None, stacked=False, *, data=None, **kwargs):\n\u001b[0;32m-> 2685\u001b[0;31m     return gca().hist(\n\u001b[0m\u001b[1;32m   2686\u001b[0m         \u001b[0mx\u001b[0m\u001b[0;34m,\u001b[0m \u001b[0mbins\u001b[0m\u001b[0;34m=\u001b[0m\u001b[0mbins\u001b[0m\u001b[0;34m,\u001b[0m \u001b[0mrange\u001b[0m\u001b[0;34m=\u001b[0m\u001b[0mrange\u001b[0m\u001b[0;34m,\u001b[0m \u001b[0mdensity\u001b[0m\u001b[0;34m=\u001b[0m\u001b[0mdensity\u001b[0m\u001b[0;34m,\u001b[0m \u001b[0mweights\u001b[0m\u001b[0;34m=\u001b[0m\u001b[0mweights\u001b[0m\u001b[0;34m,\u001b[0m\u001b[0;34m\u001b[0m\u001b[0;34m\u001b[0m\u001b[0m\n\u001b[1;32m   2687\u001b[0m         \u001b[0mcumulative\u001b[0m\u001b[0;34m=\u001b[0m\u001b[0mcumulative\u001b[0m\u001b[0;34m,\u001b[0m \u001b[0mbottom\u001b[0m\u001b[0;34m=\u001b[0m\u001b[0mbottom\u001b[0m\u001b[0;34m,\u001b[0m \u001b[0mhisttype\u001b[0m\u001b[0;34m=\u001b[0m\u001b[0mhisttype\u001b[0m\u001b[0;34m,\u001b[0m\u001b[0;34m\u001b[0m\u001b[0;34m\u001b[0m\u001b[0m\n",
      "\u001b[0;32m~/anaconda3/lib/python3.8/site-packages/matplotlib/__init__.py\u001b[0m in \u001b[0;36minner\u001b[0;34m(ax, data, *args, **kwargs)\u001b[0m\n\u001b[1;32m   1445\u001b[0m     \u001b[0;32mdef\u001b[0m \u001b[0minner\u001b[0m\u001b[0;34m(\u001b[0m\u001b[0max\u001b[0m\u001b[0;34m,\u001b[0m \u001b[0;34m*\u001b[0m\u001b[0margs\u001b[0m\u001b[0;34m,\u001b[0m \u001b[0mdata\u001b[0m\u001b[0;34m=\u001b[0m\u001b[0;32mNone\u001b[0m\u001b[0;34m,\u001b[0m \u001b[0;34m**\u001b[0m\u001b[0mkwargs\u001b[0m\u001b[0;34m)\u001b[0m\u001b[0;34m:\u001b[0m\u001b[0;34m\u001b[0m\u001b[0;34m\u001b[0m\u001b[0m\n\u001b[1;32m   1446\u001b[0m         \u001b[0;32mif\u001b[0m \u001b[0mdata\u001b[0m \u001b[0;32mis\u001b[0m \u001b[0;32mNone\u001b[0m\u001b[0;34m:\u001b[0m\u001b[0;34m\u001b[0m\u001b[0;34m\u001b[0m\u001b[0m\n\u001b[0;32m-> 1447\u001b[0;31m             \u001b[0;32mreturn\u001b[0m \u001b[0mfunc\u001b[0m\u001b[0;34m(\u001b[0m\u001b[0max\u001b[0m\u001b[0;34m,\u001b[0m \u001b[0;34m*\u001b[0m\u001b[0mmap\u001b[0m\u001b[0;34m(\u001b[0m\u001b[0msanitize_sequence\u001b[0m\u001b[0;34m,\u001b[0m \u001b[0margs\u001b[0m\u001b[0;34m)\u001b[0m\u001b[0;34m,\u001b[0m \u001b[0;34m**\u001b[0m\u001b[0mkwargs\u001b[0m\u001b[0;34m)\u001b[0m\u001b[0;34m\u001b[0m\u001b[0;34m\u001b[0m\u001b[0m\n\u001b[0m\u001b[1;32m   1448\u001b[0m \u001b[0;34m\u001b[0m\u001b[0m\n\u001b[1;32m   1449\u001b[0m         \u001b[0mbound\u001b[0m \u001b[0;34m=\u001b[0m \u001b[0mnew_sig\u001b[0m\u001b[0;34m.\u001b[0m\u001b[0mbind\u001b[0m\u001b[0;34m(\u001b[0m\u001b[0max\u001b[0m\u001b[0;34m,\u001b[0m \u001b[0;34m*\u001b[0m\u001b[0margs\u001b[0m\u001b[0;34m,\u001b[0m \u001b[0;34m**\u001b[0m\u001b[0mkwargs\u001b[0m\u001b[0;34m)\u001b[0m\u001b[0;34m\u001b[0m\u001b[0;34m\u001b[0m\u001b[0m\n",
      "\u001b[0;32m~/anaconda3/lib/python3.8/site-packages/matplotlib/axes/_axes.py\u001b[0m in \u001b[0;36mhist\u001b[0;34m(self, x, bins, range, density, weights, cumulative, bottom, histtype, align, orientation, rwidth, log, color, label, stacked, **kwargs)\u001b[0m\n\u001b[1;32m   6813\u001b[0m             \u001b[0;32mif\u001b[0m \u001b[0mpatch\u001b[0m\u001b[0;34m:\u001b[0m\u001b[0;34m\u001b[0m\u001b[0;34m\u001b[0m\u001b[0m\n\u001b[1;32m   6814\u001b[0m                 \u001b[0mp\u001b[0m \u001b[0;34m=\u001b[0m \u001b[0mpatch\u001b[0m\u001b[0;34m[\u001b[0m\u001b[0;36m0\u001b[0m\u001b[0;34m]\u001b[0m\u001b[0;34m\u001b[0m\u001b[0;34m\u001b[0m\u001b[0m\n\u001b[0;32m-> 6815\u001b[0;31m                 \u001b[0mp\u001b[0m\u001b[0;34m.\u001b[0m\u001b[0mupdate\u001b[0m\u001b[0;34m(\u001b[0m\u001b[0mkwargs\u001b[0m\u001b[0;34m)\u001b[0m\u001b[0;34m\u001b[0m\u001b[0;34m\u001b[0m\u001b[0m\n\u001b[0m\u001b[1;32m   6816\u001b[0m                 \u001b[0;32mif\u001b[0m \u001b[0mlbl\u001b[0m \u001b[0;32mis\u001b[0m \u001b[0;32mnot\u001b[0m \u001b[0;32mNone\u001b[0m\u001b[0;34m:\u001b[0m\u001b[0;34m\u001b[0m\u001b[0;34m\u001b[0m\u001b[0m\n\u001b[1;32m   6817\u001b[0m                     \u001b[0mp\u001b[0m\u001b[0;34m.\u001b[0m\u001b[0mset_label\u001b[0m\u001b[0;34m(\u001b[0m\u001b[0mlbl\u001b[0m\u001b[0;34m)\u001b[0m\u001b[0;34m\u001b[0m\u001b[0;34m\u001b[0m\u001b[0m\n",
      "\u001b[0;32m~/anaconda3/lib/python3.8/site-packages/matplotlib/artist.py\u001b[0m in \u001b[0;36mupdate\u001b[0;34m(self, props)\u001b[0m\n\u001b[1;32m    994\u001b[0m                     \u001b[0mfunc\u001b[0m \u001b[0;34m=\u001b[0m \u001b[0mgetattr\u001b[0m\u001b[0;34m(\u001b[0m\u001b[0mself\u001b[0m\u001b[0;34m,\u001b[0m \u001b[0;34mf\"set_{k}\"\u001b[0m\u001b[0;34m,\u001b[0m \u001b[0;32mNone\u001b[0m\u001b[0;34m)\u001b[0m\u001b[0;34m\u001b[0m\u001b[0;34m\u001b[0m\u001b[0m\n\u001b[1;32m    995\u001b[0m                     \u001b[0;32mif\u001b[0m \u001b[0;32mnot\u001b[0m \u001b[0mcallable\u001b[0m\u001b[0;34m(\u001b[0m\u001b[0mfunc\u001b[0m\u001b[0;34m)\u001b[0m\u001b[0;34m:\u001b[0m\u001b[0;34m\u001b[0m\u001b[0;34m\u001b[0m\u001b[0m\n\u001b[0;32m--> 996\u001b[0;31m                         raise AttributeError(f\"{type(self).__name__!r} object \"\n\u001b[0m\u001b[1;32m    997\u001b[0m                                              f\"has no property {k!r}\")\n\u001b[1;32m    998\u001b[0m                     \u001b[0mret\u001b[0m\u001b[0;34m.\u001b[0m\u001b[0mappend\u001b[0m\u001b[0;34m(\u001b[0m\u001b[0mfunc\u001b[0m\u001b[0;34m(\u001b[0m\u001b[0mv\u001b[0m\u001b[0;34m)\u001b[0m\u001b[0;34m)\u001b[0m\u001b[0;34m\u001b[0m\u001b[0;34m\u001b[0m\u001b[0m\n",
      "\u001b[0;31mAttributeError\u001b[0m: 'Rectangle' object has no property 'normed'"
     ]
    },
    {
     "data": {
      "image/png": "[encoded data removed]",
      "text/plain": [
       "<Figure size 432x288 with 1 Axes>"
      ]
     },
     "metadata": {
      "needs_background": "light"
     },
     "output_type": "display_data"
    }
   ],
   "source": [
    "plt.hist(X, normed=True, label=\"Stat. of the Sampling\");\n",
    "plt.plot(PMF, label=r\"PMF, $b(10, 0.3)$\")\n",
    "plt.legend()\n",
    "plt.xlabel(r\"Statistical Test of the Samples\")\n",
    "plt.savefig('test_bin.pdf')"
   ]
  },
  {
   "cell_type": "markdown",
   "metadata": {},
   "source": [
    "实测结果和理论符合的很好。"
   ]
  },
  {
   "cell_type": "markdown",
   "metadata": {},
   "source": [
    "## 连续分布的情形\n",
    "而对于连续型随机变量，可以看作是离散型随机变量的一种极限情形。此时概率分布无法逐点定义，而是定义在样本集内的正测度集上，即考察随机变量落在一个正测度集内的概率是多少。而从这个角度我们发现，之前在定义所引入的累积分布函数\n",
    "$$\n",
    "F(x) = P(\\xi \\leq x), x \\in \\mathbb{R}\n",
    "$$\n",
    "对连续型随机变量仍然适用，而在此基础上，可进一步引入直观上“概率如何在一点上的定义”。由于一点是零测度集，所以这种定义无法脱离正测度集的概\n",
    "念独立存在，而被看作“微元正测度集”的概率。"
   ]
  },
  {
   "cell_type": "markdown",
   "metadata": {},
   "source": [
    "**概率密度函数（Probability Density Function, PDF）** 对连续型随机变量，$\\forall x \\in \\mathbb{R}$, 我们仍称\n",
    "$$\n",
    "  \\begin{equation}\n",
    "    F(x) = P(\\xi \\leq x), x \\in \\mathbb{R}\n",
    "    \\label{eq::df}\n",
    "  \\end{equation}\n",
    "$$  \n",
    "为累计分布函数，若存在某个非负的可积函数 $f(x)$，满足\n",
    "$$\n",
    "  \\begin{equation}\n",
    "    F(x) = \\int_{-\\infty}^x f(y) dy, \\forall x \\in \\mathbb{R},\n",
    "    \\label{eq::pdf}\n",
    "  \\end{equation}\n",
    "$$  \n",
    "则称 $f(x)$ 为对应随机分布的概率密度函数，简称为PDF。此时，\n",
    "$$\n",
    "  \\begin{equation}\n",
    "    f(x) = F'(x).\n",
    "    \\label{eq::pdf2cdf}\n",
    "  \\end{equation}\n",
    "$$"
   ]
  },
  {
   "cell_type": "markdown",
   "metadata": {},
   "source": [
    "注意到我们之前定义的针对离散型随机变量的 PMF，事实上和这里定义的 PDF 并无冲突，甚至可以看作是 PDF 的一个特例（这里要看你如何定义积分了）。关于逆变换的定义也可以完全沿用。"
   ]
  },
  {
   "cell_type": "markdown",
   "metadata": {},
   "source": [
    "对于连续分布的采样抽取，如果存在容易计算的逆变换解析表达式 $F^{-1}(y)$，那么对于 $U(0, 1)$ 的均匀分布的随机变量 $\\eta$，直接计算 $F^{-1}(\\eta)$ 即可。也就是说，\n",
    "$$\n",
    "\\begin{equation}\n",
    "  \\xi = \\min\\left\\{x \\left|\\eta \\leq \\int_{-\\infty}^x f(t)\n",
    "  dt\\right.\\right\\} = F^{-1}(\\eta), \\eta \\sim U(0, 1),\n",
    "  \\label{eq::inv}\n",
    "\\end{equation}\n",
    "$$\n",
    "则 $\\xi \\sim f(x)$。下面算法给出了Rayleigh分布逆变换抽样的实现。"
   ]
  },
  {
   "cell_type": "markdown",
   "metadata": {},
   "source": [
    "## 连续分布举例\n",
    "下面是连续情形的逆变换直接抽样。如果能写出逆变换的解析形式，而且便于计算，那么整个过程非常直接方便。这是一个Rayleigh分布直接抽样的例子。"
   ]
  },
  {
   "cell_type": "code",
   "execution_count": 10,
   "metadata": {},
   "outputs": [],
   "source": [
    "def sample_Rayleigh(U, sigma):\n",
    "    return [np.sqrt(-2 * sigma**2 * np.log(u)) for u in U]"
   ]
  },
  {
   "cell_type": "markdown",
   "metadata": {},
   "source": [
    "还是直接抽样1000000次。"
   ]
  },
  {
   "cell_type": "code",
   "execution_count": 11,
   "metadata": {},
   "outputs": [],
   "source": [
    "U = np.random.rand(1000000)\n",
    "X = sample_Rayleigh(U, 0.5)"
   ]
  },
  {
   "cell_type": "markdown",
   "metadata": {},
   "source": [
    "同样的，我们需要统计验证。"
   ]
  },
  {
   "cell_type": "code",
   "execution_count": 12,
   "metadata": {},
   "outputs": [
    {
     "ename": "AttributeError",
     "evalue": "'Rectangle' object has no property 'normed'",
     "output_type": "error",
     "traceback": [
      "\u001b[0;31m---------------------------------------------------------------------------\u001b[0m",
      "\u001b[0;31mAttributeError\u001b[0m                            Traceback (most recent call last)",
      "\u001b[0;32m<ipython-input-12-1613aae25f24>\u001b[0m in \u001b[0;36m<module>\u001b[0;34m\u001b[0m\n\u001b[1;32m      2\u001b[0m \u001b[0mx\u001b[0m \u001b[0;34m=\u001b[0m \u001b[0mnp\u001b[0m\u001b[0;34m.\u001b[0m\u001b[0mlinspace\u001b[0m\u001b[0;34m(\u001b[0m\u001b[0;36m0\u001b[0m\u001b[0;34m,\u001b[0m\u001b[0;36m6\u001b[0m\u001b[0;34m,\u001b[0m\u001b[0;36m10000\u001b[0m\u001b[0;34m)\u001b[0m\u001b[0;34m\u001b[0m\u001b[0;34m\u001b[0m\u001b[0m\n\u001b[1;32m      3\u001b[0m \u001b[0mf\u001b[0m \u001b[0;34m=\u001b[0m \u001b[0;34m(\u001b[0m\u001b[0mx\u001b[0m\u001b[0;34m/\u001b[0m\u001b[0ms\u001b[0m\u001b[0;34m**\u001b[0m\u001b[0;36m2\u001b[0m\u001b[0;34m)\u001b[0m \u001b[0;34m*\u001b[0m \u001b[0mnp\u001b[0m\u001b[0;34m.\u001b[0m\u001b[0mexp\u001b[0m\u001b[0;34m(\u001b[0m\u001b[0;34m-\u001b[0m\u001b[0mx\u001b[0m\u001b[0;34m**\u001b[0m\u001b[0;36m2\u001b[0m\u001b[0;34m/\u001b[0m\u001b[0;34m(\u001b[0m\u001b[0;36m2\u001b[0m \u001b[0;34m*\u001b[0m \u001b[0ms\u001b[0m\u001b[0;34m**\u001b[0m\u001b[0;36m2\u001b[0m\u001b[0;34m)\u001b[0m\u001b[0;34m)\u001b[0m\u001b[0;34m\u001b[0m\u001b[0;34m\u001b[0m\u001b[0m\n\u001b[0;32m----> 4\u001b[0;31m \u001b[0mplt\u001b[0m\u001b[0;34m.\u001b[0m\u001b[0mhist\u001b[0m\u001b[0;34m(\u001b[0m\u001b[0mX\u001b[0m\u001b[0;34m,\u001b[0m \u001b[0mbins\u001b[0m\u001b[0;34m=\u001b[0m\u001b[0;36m50\u001b[0m\u001b[0;34m,\u001b[0m\u001b[0mnormed\u001b[0m\u001b[0;34m=\u001b[0m\u001b[0;32mTrue\u001b[0m\u001b[0;34m,\u001b[0m \u001b[0mlabel\u001b[0m\u001b[0;34m=\u001b[0m\u001b[0;34m\"Stat. of the Sampling\"\u001b[0m\u001b[0;34m)\u001b[0m\u001b[0;34m;\u001b[0m\u001b[0;34m\u001b[0m\u001b[0;34m\u001b[0m\u001b[0m\n\u001b[0m\u001b[1;32m      5\u001b[0m \u001b[0mplt\u001b[0m\u001b[0;34m.\u001b[0m\u001b[0mplot\u001b[0m\u001b[0;34m(\u001b[0m\u001b[0mx\u001b[0m\u001b[0;34m,\u001b[0m \u001b[0mf\u001b[0m\u001b[0;34m,\u001b[0m \u001b[0mlabel\u001b[0m\u001b[0;34m=\u001b[0m\u001b[0;34mr\"PDF of Rayleigh Distribution, $\\sigma = 0.5$\"\u001b[0m\u001b[0;34m)\u001b[0m\u001b[0;34m\u001b[0m\u001b[0;34m\u001b[0m\u001b[0m\n\u001b[1;32m      6\u001b[0m \u001b[0mplt\u001b[0m\u001b[0;34m.\u001b[0m\u001b[0mlegend\u001b[0m\u001b[0;34m(\u001b[0m\u001b[0;34m)\u001b[0m\u001b[0;34m\u001b[0m\u001b[0;34m\u001b[0m\u001b[0m\n",
      "\u001b[0;32m~/anaconda3/lib/python3.8/site-packages/matplotlib/pyplot.py\u001b[0m in \u001b[0;36mhist\u001b[0;34m(x, bins, range, density, weights, cumulative, bottom, histtype, align, orientation, rwidth, log, color, label, stacked, data, **kwargs)\u001b[0m\n\u001b[1;32m   2683\u001b[0m         \u001b[0morientation\u001b[0m\u001b[0;34m=\u001b[0m\u001b[0;34m'vertical'\u001b[0m\u001b[0;34m,\u001b[0m \u001b[0mrwidth\u001b[0m\u001b[0;34m=\u001b[0m\u001b[0;32mNone\u001b[0m\u001b[0;34m,\u001b[0m \u001b[0mlog\u001b[0m\u001b[0;34m=\u001b[0m\u001b[0;32mFalse\u001b[0m\u001b[0;34m,\u001b[0m \u001b[0mcolor\u001b[0m\u001b[0;34m=\u001b[0m\u001b[0;32mNone\u001b[0m\u001b[0;34m,\u001b[0m\u001b[0;34m\u001b[0m\u001b[0;34m\u001b[0m\u001b[0m\n\u001b[1;32m   2684\u001b[0m         label=None, stacked=False, *, data=None, **kwargs):\n\u001b[0;32m-> 2685\u001b[0;31m     return gca().hist(\n\u001b[0m\u001b[1;32m   2686\u001b[0m         \u001b[0mx\u001b[0m\u001b[0;34m,\u001b[0m \u001b[0mbins\u001b[0m\u001b[0;34m=\u001b[0m\u001b[0mbins\u001b[0m\u001b[0;34m,\u001b[0m \u001b[0mrange\u001b[0m\u001b[0;34m=\u001b[0m\u001b[0mrange\u001b[0m\u001b[0;34m,\u001b[0m \u001b[0mdensity\u001b[0m\u001b[0;34m=\u001b[0m\u001b[0mdensity\u001b[0m\u001b[0;34m,\u001b[0m \u001b[0mweights\u001b[0m\u001b[0;34m=\u001b[0m\u001b[0mweights\u001b[0m\u001b[0;34m,\u001b[0m\u001b[0;34m\u001b[0m\u001b[0;34m\u001b[0m\u001b[0m\n\u001b[1;32m   2687\u001b[0m         \u001b[0mcumulative\u001b[0m\u001b[0;34m=\u001b[0m\u001b[0mcumulative\u001b[0m\u001b[0;34m,\u001b[0m \u001b[0mbottom\u001b[0m\u001b[0;34m=\u001b[0m\u001b[0mbottom\u001b[0m\u001b[0;34m,\u001b[0m \u001b[0mhisttype\u001b[0m\u001b[0;34m=\u001b[0m\u001b[0mhisttype\u001b[0m\u001b[0;34m,\u001b[0m\u001b[0;34m\u001b[0m\u001b[0;34m\u001b[0m\u001b[0m\n",
      "\u001b[0;32m~/anaconda3/lib/python3.8/site-packages/matplotlib/__init__.py\u001b[0m in \u001b[0;36minner\u001b[0;34m(ax, data, *args, **kwargs)\u001b[0m\n\u001b[1;32m   1445\u001b[0m     \u001b[0;32mdef\u001b[0m \u001b[0minner\u001b[0m\u001b[0;34m(\u001b[0m\u001b[0max\u001b[0m\u001b[0;34m,\u001b[0m \u001b[0;34m*\u001b[0m\u001b[0margs\u001b[0m\u001b[0;34m,\u001b[0m \u001b[0mdata\u001b[0m\u001b[0;34m=\u001b[0m\u001b[0;32mNone\u001b[0m\u001b[0;34m,\u001b[0m \u001b[0;34m**\u001b[0m\u001b[0mkwargs\u001b[0m\u001b[0;34m)\u001b[0m\u001b[0;34m:\u001b[0m\u001b[0;34m\u001b[0m\u001b[0;34m\u001b[0m\u001b[0m\n\u001b[1;32m   1446\u001b[0m         \u001b[0;32mif\u001b[0m \u001b[0mdata\u001b[0m \u001b[0;32mis\u001b[0m \u001b[0;32mNone\u001b[0m\u001b[0;34m:\u001b[0m\u001b[0;34m\u001b[0m\u001b[0;34m\u001b[0m\u001b[0m\n\u001b[0;32m-> 1447\u001b[0;31m             \u001b[0;32mreturn\u001b[0m \u001b[0mfunc\u001b[0m\u001b[0;34m(\u001b[0m\u001b[0max\u001b[0m\u001b[0;34m,\u001b[0m \u001b[0;34m*\u001b[0m\u001b[0mmap\u001b[0m\u001b[0;34m(\u001b[0m\u001b[0msanitize_sequence\u001b[0m\u001b[0;34m,\u001b[0m \u001b[0margs\u001b[0m\u001b[0;34m)\u001b[0m\u001b[0;34m,\u001b[0m \u001b[0;34m**\u001b[0m\u001b[0mkwargs\u001b[0m\u001b[0;34m)\u001b[0m\u001b[0;34m\u001b[0m\u001b[0;34m\u001b[0m\u001b[0m\n\u001b[0m\u001b[1;32m   1448\u001b[0m \u001b[0;34m\u001b[0m\u001b[0m\n\u001b[1;32m   1449\u001b[0m         \u001b[0mbound\u001b[0m \u001b[0;34m=\u001b[0m \u001b[0mnew_sig\u001b[0m\u001b[0;34m.\u001b[0m\u001b[0mbind\u001b[0m\u001b[0;34m(\u001b[0m\u001b[0max\u001b[0m\u001b[0;34m,\u001b[0m \u001b[0;34m*\u001b[0m\u001b[0margs\u001b[0m\u001b[0;34m,\u001b[0m \u001b[0;34m**\u001b[0m\u001b[0mkwargs\u001b[0m\u001b[0;34m)\u001b[0m\u001b[0;34m\u001b[0m\u001b[0;34m\u001b[0m\u001b[0m\n",
      "\u001b[0;32m~/anaconda3/lib/python3.8/site-packages/matplotlib/axes/_axes.py\u001b[0m in \u001b[0;36mhist\u001b[0;34m(self, x, bins, range, density, weights, cumulative, bottom, histtype, align, orientation, rwidth, log, color, label, stacked, **kwargs)\u001b[0m\n\u001b[1;32m   6813\u001b[0m             \u001b[0;32mif\u001b[0m \u001b[0mpatch\u001b[0m\u001b[0;34m:\u001b[0m\u001b[0;34m\u001b[0m\u001b[0;34m\u001b[0m\u001b[0m\n\u001b[1;32m   6814\u001b[0m                 \u001b[0mp\u001b[0m \u001b[0;34m=\u001b[0m \u001b[0mpatch\u001b[0m\u001b[0;34m[\u001b[0m\u001b[0;36m0\u001b[0m\u001b[0;34m]\u001b[0m\u001b[0;34m\u001b[0m\u001b[0;34m\u001b[0m\u001b[0m\n\u001b[0;32m-> 6815\u001b[0;31m                 \u001b[0mp\u001b[0m\u001b[0;34m.\u001b[0m\u001b[0mupdate\u001b[0m\u001b[0;34m(\u001b[0m\u001b[0mkwargs\u001b[0m\u001b[0;34m)\u001b[0m\u001b[0;34m\u001b[0m\u001b[0;34m\u001b[0m\u001b[0m\n\u001b[0m\u001b[1;32m   6816\u001b[0m                 \u001b[0;32mif\u001b[0m \u001b[0mlbl\u001b[0m \u001b[0;32mis\u001b[0m \u001b[0;32mnot\u001b[0m \u001b[0;32mNone\u001b[0m\u001b[0;34m:\u001b[0m\u001b[0;34m\u001b[0m\u001b[0;34m\u001b[0m\u001b[0m\n\u001b[1;32m   6817\u001b[0m                     \u001b[0mp\u001b[0m\u001b[0;34m.\u001b[0m\u001b[0mset_label\u001b[0m\u001b[0;34m(\u001b[0m\u001b[0mlbl\u001b[0m\u001b[0;34m)\u001b[0m\u001b[0;34m\u001b[0m\u001b[0;34m\u001b[0m\u001b[0m\n",
      "\u001b[0;32m~/anaconda3/lib/python3.8/site-packages/matplotlib/artist.py\u001b[0m in \u001b[0;36mupdate\u001b[0;34m(self, props)\u001b[0m\n\u001b[1;32m    994\u001b[0m                     \u001b[0mfunc\u001b[0m \u001b[0;34m=\u001b[0m \u001b[0mgetattr\u001b[0m\u001b[0;34m(\u001b[0m\u001b[0mself\u001b[0m\u001b[0;34m,\u001b[0m \u001b[0;34mf\"set_{k}\"\u001b[0m\u001b[0;34m,\u001b[0m \u001b[0;32mNone\u001b[0m\u001b[0;34m)\u001b[0m\u001b[0;34m\u001b[0m\u001b[0;34m\u001b[0m\u001b[0m\n\u001b[1;32m    995\u001b[0m                     \u001b[0;32mif\u001b[0m \u001b[0;32mnot\u001b[0m \u001b[0mcallable\u001b[0m\u001b[0;34m(\u001b[0m\u001b[0mfunc\u001b[0m\u001b[0;34m)\u001b[0m\u001b[0;34m:\u001b[0m\u001b[0;34m\u001b[0m\u001b[0;34m\u001b[0m\u001b[0m\n\u001b[0;32m--> 996\u001b[0;31m                         raise AttributeError(f\"{type(self).__name__!r} object \"\n\u001b[0m\u001b[1;32m    997\u001b[0m                                              f\"has no property {k!r}\")\n\u001b[1;32m    998\u001b[0m                     \u001b[0mret\u001b[0m\u001b[0;34m.\u001b[0m\u001b[0mappend\u001b[0m\u001b[0;34m(\u001b[0m\u001b[0mfunc\u001b[0m\u001b[0;34m(\u001b[0m\u001b[0mv\u001b[0m\u001b[0;34m)\u001b[0m\u001b[0;34m)\u001b[0m\u001b[0;34m\u001b[0m\u001b[0;34m\u001b[0m\u001b[0m\n",
      "\u001b[0;31mAttributeError\u001b[0m: 'Rectangle' object has no property 'normed'"
     ]
    },
    {
     "data": {
      "image/png": "[encoded data removed]",
      "text/plain": [
       "<Figure size 432x288 with 1 Axes>"
      ]
     },
     "metadata": {
      "needs_background": "light"
     },
     "output_type": "display_data"
    }
   ],
   "source": [
    "s = 0.5\n",
    "x = np.linspace(0,6,10000)\n",
    "f = (x/s**2) * np.exp(-x**2/(2 * s**2))\n",
    "plt.hist(X, bins=50,normed=True, label=\"Stat. of the Sampling\");\n",
    "plt.plot(x, f, label=r\"PDF of Rayleigh Distribution, $\\sigma = 0.5$\")\n",
    "plt.legend()\n",
    "plt.xlabel(r\"Statistical Test of Rayleigh Samples by Inverse Transform Method\")\n",
    "plt.savefig('Ray_inv.pdf')"
   ]
  },
  {
   "cell_type": "markdown",
   "metadata": {},
   "source": [
    "这里hist的参数bins=50代表了做统计的区间分段数，由于我们的样本数足够，这个数字越大，统计图会越连续。下面是指数分布："
   ]
  },
  {
   "cell_type": "code",
   "execution_count": null,
   "metadata": {},
   "outputs": [],
   "source": [
    "def sample_Exponential(U, beta):\n",
    "    return [-beta * np.log(u) for u in U]"
   ]
  },
  {
   "cell_type": "code",
   "execution_count": null,
   "metadata": {},
   "outputs": [],
   "source": [
    "U = np.random.rand(1000000)\n",
    "beta = 1.0\n",
    "X = sample_Exponential(U, beta)\n",
    "x = np.linspace(0,6,10000)\n",
    "f = 1/beta * np.exp(-x/beta)\n",
    "plt.hist(X, bins=50,normed=True, label=\"Stat. of the Sampling\");\n",
    "plt.plot(x, f, label=r\"PDF of Exponential Distribution, $\\beta = 1.0$\")\n",
    "plt.legend()\n",
    "plt.xlabel(r\"Statistical Test of Exponential Samples by Inverse Transform Method\")\n",
    "#plt.savefig('Exp_inv.pdf')"
   ]
  },
  {
   "cell_type": "markdown",
   "metadata": {},
   "source": [
    "这种方法是最直接的采样手段。Fishman1995 中给出了一些常见分布的 PDF 以及相应的逆变换表达式。从表上我们就发现并不是每一个能写出表达式的逆变换在计算上都是高效率的，而有的甚至根本没有解析形式。比如最重要的正态分布我们就没有解析的逆变换形式。不过 Hastings1955（这是一本神奇的书，给出了各种难以计算公式的有理逼近估计）给出了一个有理逼近形式：\n",
    "$$\n",
    "\\begin{equation}\n",
    "  F^{-1}(y) = \\mu\n",
    "  + \\mathrm{sign}(y - \\frac{1}{2})\\sigma\\left(t\n",
    "  - \\frac{c_0 + c_1 t + c_2 t^2}{1 + d_1 t + d_2 t^2 + d_3 t^3}\\right),\n",
    "  \\label{eq::approx_normal}\n",
    "\\end{equation}\n",
    "$$\n",
    "其中\n",
    "$$\n",
    "t = \\sqrt{-\\ln\\left[\\min(y, 1 - y)\\right]^2},\n",
    "$$\n",
    "各参数值为\n",
    "$$\n",
    "\\begin{array}{c}\n",
    "  c_0 = 2.515517, c_1 = 0.802853, c_2 = 0.010328,\\\\\n",
    "  d_1 = 1.432788, d_2 = 0.189269, d_3 = 0.001308.\n",
    "\\end{array}\n",
    "$$\n",
    "此公式绝对误差小于$0.45 \\times 10^-3$。\n",
    "\n",
    "如果逆变换本身没有解析形式或者难以计算，那么另一个方法是直接从 CDF 入手计算（注意不是 PDF），当然前提是 PDF 和 CDF 可以快速计算。这本质上就是之前离散的情况的查表的极限沿拓，到了连续情形就变成对一个 $\\forall y \\in [0, 1]$，寻找 $x \\in \\mathbb{R}$，满足\n",
    "$$\n",
    "\\begin{equation}\n",
    "  F(x) = y \\Rightarrow F(x) - y = 0.\n",
    "  \\label{eq::inv_equation}\n",
    "\\end{equation}\n",
    "$$\n",
    "而上述方程，我们可以用数值方法，比如二分法，或 Newton 法求解。"
   ]
  },
  {
   "cell_type": "markdown",
   "metadata": {},
   "source": [
    "## 接受－拒绝方法（Accept-Rejection Method）\n",
    "\n",
    "总是有一些分布，或者写不出反函数的解析表达，或者该解析表达难以计算（或计算量很大）。比如最重要的正态分布就没有显式的积累分布函数的解析表达。而一些初等函数，如指数，对数的计算，事实上计算量是极大的。1947年，冯·诺伊曼从条件概率入手，提出了取舍算法(Accept-Rejection\n",
    "Method，简称AR法)。"
   ]
  },
  {
   "cell_type": "markdown",
   "metadata": {},
   "source": [
    "**Neumann 1951**\n",
    "\n",
    "令$f(z)$，$a \\leq z \\leq b$是某分布的概率密度函数且具有分解形式\n",
    "$$\n",
    "\\begin{equation}\n",
    "    f(z) = c g(z) h(z),\n",
    "    \\label{eq::AR_frac_pdf}\n",
    "  \\end{equation}\n",
    "$$\n",
    "其中\n",
    "$$\n",
    "\\begin{equation}\n",
    "    h(z) \\geq 0, \\int_a^b h(z) dz = 1, c = \\sup_{z}\\left[\\frac{f(z)}{h(z)}\\right],\n",
    "    \\label{eq::AR_pfd_hc}\n",
    "  \\end{equation}\n",
    "$$\n",
    "并且\n",
    "$$\n",
    "\\begin{equation}\n",
    "    0 \\leq g(z) \\leq 1.\n",
    "    \\label{eq::AR_pdf_g}\n",
    "  \\end{equation}\n",
    "$$\n",
    "令 $Z$ 是 PDF 为 $h(z)$ 的随机变量，$U$ 为服从 $U(0, 1)$ 的随机变量。则满足 $U \\leq g(Z)$ 的随机变量 $Z$ 服从PDF为 $f(z)$ 的概率分布。"
   ]
  },
  {
   "cell_type": "markdown",
   "metadata": {},
   "source": [
    "**证明：** 随机变量 $U$ 的 PDF 为 $1$，$u \\in [0, 1]$；而 $Z$ 的 PDF 为 $h(z)$，$z \\in [a, b]$，故二者联合分布，即随机向量$(U, Z)$ 的 PDF 为\n",
    "$$\n",
    "  \\begin{equation}\n",
    "    f_{U, Z}(u, z) = h(z).\n",
    "  \\end{equation}\n",
    "$$\n",
    "（不严格地，可看作任取 $[0, 1] \\times [a, b]$ 中的一点，事件恰好落在这一点的概率。把点想像成一个点微元。）现在考虑 $Z$ 的条件概率分布\n",
    "$$\n",
    "  \\begin{equation}\n",
    "    h_Z(z\\left|U \\leq g(Z)\\right.) =\n",
    "    \\frac{\\int_0^{g(z)}f_{U, Z}(u, z)du}{P(U \\leq g(Z))}.\n",
    "    \\label{eq::AR_cond_h}\n",
    "  \\end{equation}\n",
    "$$\n",
    "（这个事件说的是，首先 $Z$ 是一个随机变量，它按 $h(Z)$ 的概率分布发生。然后 $U$ 是一个 $U(0, 1)$ 分布的随机变量。两件事情同时发生的概率，可以认为是先有 $h(Z)$ 的概率 $Z$ 落在了 $z$ 点，我们还是把它想像成一个微元事件，同时 $U$ 落在 $[0, g(z)]$ 区间上，可以是其中任何一点，所以要积分。这两件事情的全概率是上式的分子。现在我们求的条件概率是，如果 $U$ 和 $Z$ 各自都是独立的，$U$ 在投点的时候并不知道 $Z$ 在哪里，以及 $g(Z)$ 是多少，但我们还是想问这种情况下，$U \\leq g(Z)$ 的这个事件，关于 $Z$ 的概率密度分布是多少？那么这个就是条件概率分布，它要除以 $U \\leq g(Z)$ 的概率。）\n",
    "  \n",
    "再由（因为 $f(z)$ 是 PDF）\n",
    "$$\n",
    "  \\begin{equation}\n",
    "    c = \\frac{1}{\\int_{a}^b g(z) h(z)dz},\n",
    "    \\label{eq::AR_dri_c}\n",
    "  \\end{equation}\n",
    "$$\n",
    "以及\n",
    "$$\n",
    "\\begin{equation}\n",
    "    \\int_0^{g(z)}f_{U, Z}(u, z)dx = \\int_0^{g(z)} h(z) du = g(z) h(z),\n",
    "    \\label{eq::AR_cond_f}\n",
    "  \\end{equation}\n",
    "$$\n",
    "和\n",
    "$$\n",
    "\\begin{equation}\n",
    "    P(U \\leq g(Z)) = \\int_{a}^b h (z) g(z) dz = \\frac{1}{c},\n",
    "    \\label{eq::AR_conf_f_bottom}\n",
    "  \\end{equation}\n",
    "$$\n",
    "（$Z$ 落在 $z \\in [a, b]$ 点的概率是 $h(z)$，然后此时 $U < g(Z)$ 的概率就是 $g(z)$，故 $Z$ 落在 $z$ 点，同时 $U < g(Z)$ 的单点微元概率是 $h(z)g(z)$，对 $Z$ 取遍全部可能性积分，就得到全部可能的概率。注意和上面分子的不同。分子求的是一个边际分布，是一个关于 $Z$ 的概率密度分布，而分母是一个概率，是一个数。在条件概率公式下，构成了所求的条件概率密度分布函数。）\n",
    "\n",
    "最终有\n",
    "$$\n",
    "\\begin{equation}\n",
    "    h_Z(z\\left|U \\leq g(Z)\\right.) = c g(z) h(z) = f(z).\n",
    "    \\label{eq::dri_f}\n",
    "  \\end{equation}\n",
    "$$"
   ]
  },
  {
   "cell_type": "markdown",
   "metadata": {},
   "source": [
    "根据定理结果，如果我们已知 $g(z)$ 和 $h(z)$，则可以构建算法产生服从分布\n",
    "$f(z)$ 的随机变量。基本步骤为：\n",
    "1. 产生服从分布 $h(z)$ 的随机变量 $Z$；\n",
    "2. 产生服从 $U(0, 1)$ 的随机变量 $U$；\n",
    "3. 计算 $g(Z)$；\n",
    "4. 若 $U \\leq g(Z)$，返回 $Z$，否则放弃，返回第1步."
   ]
  },
  {
   "cell_type": "markdown",
   "metadata": {},
   "source": [
    "**标准半正态分布（half-normal distribution）** 的PDF为：\n",
    "$$\n",
    "  \\begin{equation}\n",
    "    f(z) = \\sqrt{\\frac{2}{\\pi}} e^{\\frac{-z^2}{2}}, 0 \\leq z < \\infty.\n",
    "    \\label{eq::def_half_normal}\n",
    "  \\end{equation}\n",
    "$$\n",
    "我们可以将其写作\n",
    "$$\n",
    "\\begin{equation}\n",
    "    f(z) = \\sqrt{\\frac{2e}{\\pi}} e^{\\frac{-(z - 1)^2}{2}}e^{-z},\n",
    "    \\label{eq::frac_half_normal}\n",
    "  \\end{equation}\n",
    "$$\n",
    "并令\n",
    "$$\n",
    "\\begin{equation}\n",
    "\\begin{array}{rcl}\n",
    "    h(z) &=& e^{-z}, \\\\\n",
    "    g(x) &=& e^{\\frac{-(z - 1)^2}{2}},\n",
    "\\end{array}\n",
    "  \\end{equation}\n",
    "$$\n",
    "以及\n",
    "$$\n",
    "\\begin{equation}\n",
    "    c = \\sqrt{\\frac{2e}{\\pi}} \\approx 1.3155.\n",
    "    \\label{eq::half_normal_c}\n",
    "  \\end{equation}\n",
    "$$"
   ]
  },
  {
   "cell_type": "markdown",
   "metadata": {},
   "source": [
    "下面是用AR方法抽取标准半正态分布的过程。"
   ]
  },
  {
   "cell_type": "code",
   "execution_count": 13,
   "metadata": {},
   "outputs": [],
   "source": [
    "def sample_half_normal(N):\n",
    "# N, 实际采样数\n",
    "    k = 0  # 实际接受总数\n",
    "    U = np.random.rand(N)  # 产生均匀分布\n",
    "    X = [-np.log(u) for u in U]  # 产生服从h的随机变量X, 实际上是beta(1)\n",
    "    G = [np.exp(-(x-1)**2/2) for x in X]   # 计算g(X)\n",
    "    U = np.random.rand(N)  # 再次产生均匀分布\n",
    "    for i in range(N):\n",
    "        if U[i] <= G[i]:  # 在g发生的条件下接受\n",
    "            X[k] = X[i]   # 将采样记下来\n",
    "            k = k + 1\n",
    "    return k, X"
   ]
  },
  {
   "cell_type": "markdown",
   "metadata": {},
   "source": [
    "实际产生100万个服从标准半正态分布的随机数。然后做统计检测并和PDF对比。"
   ]
  },
  {
   "cell_type": "code",
   "execution_count": 14,
   "metadata": {},
   "outputs": [
    {
     "ename": "AttributeError",
     "evalue": "'Rectangle' object has no property 'normed'",
     "output_type": "error",
     "traceback": [
      "\u001b[0;31m---------------------------------------------------------------------------\u001b[0m",
      "\u001b[0;31mAttributeError\u001b[0m                            Traceback (most recent call last)",
      "\u001b[0;32m<ipython-input-14-cbf5b3d97a56>\u001b[0m in \u001b[0;36m<module>\u001b[0;34m\u001b[0m\n\u001b[1;32m      3\u001b[0m \u001b[0;36m1000000\u001b[0m\u001b[0;34m/\u001b[0m\u001b[0mk\u001b[0m\u001b[0;34m\u001b[0m\u001b[0;34m\u001b[0m\u001b[0m\n\u001b[1;32m      4\u001b[0m \u001b[0mx\u001b[0m \u001b[0;34m=\u001b[0m \u001b[0mnp\u001b[0m\u001b[0;34m.\u001b[0m\u001b[0mlinspace\u001b[0m\u001b[0;34m(\u001b[0m\u001b[0;36m0\u001b[0m\u001b[0;34m,\u001b[0m\u001b[0;36m6\u001b[0m\u001b[0;34m,\u001b[0m\u001b[0;36m10000\u001b[0m\u001b[0;34m)\u001b[0m\u001b[0;34m\u001b[0m\u001b[0;34m\u001b[0m\u001b[0m\n\u001b[0;32m----> 5\u001b[0;31m \u001b[0mplt\u001b[0m\u001b[0;34m.\u001b[0m\u001b[0mhist\u001b[0m\u001b[0;34m(\u001b[0m\u001b[0mX\u001b[0m\u001b[0;34m[\u001b[0m\u001b[0;36m0\u001b[0m\u001b[0;34m:\u001b[0m\u001b[0mk\u001b[0m\u001b[0;34m]\u001b[0m\u001b[0;34m,\u001b[0m \u001b[0mbins\u001b[0m\u001b[0;34m=\u001b[0m\u001b[0;36m50\u001b[0m\u001b[0;34m,\u001b[0m \u001b[0mnormed\u001b[0m\u001b[0;34m=\u001b[0m\u001b[0;32mTrue\u001b[0m\u001b[0;34m,\u001b[0m \u001b[0mlabel\u001b[0m\u001b[0;34m=\u001b[0m\u001b[0;34mr\"Stat\"\u001b[0m\u001b[0;34m)\u001b[0m\u001b[0;34m;\u001b[0m\u001b[0;34m\u001b[0m\u001b[0;34m\u001b[0m\u001b[0m\n\u001b[0m\u001b[1;32m      6\u001b[0m \u001b[0mplt\u001b[0m\u001b[0;34m.\u001b[0m\u001b[0mplot\u001b[0m\u001b[0;34m(\u001b[0m\u001b[0mx\u001b[0m\u001b[0;34m,\u001b[0m\u001b[0mnp\u001b[0m\u001b[0;34m.\u001b[0m\u001b[0msqrt\u001b[0m\u001b[0;34m(\u001b[0m\u001b[0;36m2\u001b[0m\u001b[0;34m/\u001b[0m\u001b[0mnp\u001b[0m\u001b[0;34m.\u001b[0m\u001b[0mpi\u001b[0m\u001b[0;34m)\u001b[0m\u001b[0;34m*\u001b[0m\u001b[0mnp\u001b[0m\u001b[0;34m.\u001b[0m\u001b[0mexp\u001b[0m\u001b[0;34m(\u001b[0m\u001b[0;34m-\u001b[0m\u001b[0mx\u001b[0m\u001b[0;34m**\u001b[0m\u001b[0;36m2\u001b[0m\u001b[0;34m/\u001b[0m\u001b[0;36m2\u001b[0m\u001b[0;34m)\u001b[0m\u001b[0;34m,\u001b[0m \u001b[0mlabel\u001b[0m\u001b[0;34m=\u001b[0m\u001b[0;34mr\"PDF\"\u001b[0m\u001b[0;34m)\u001b[0m\u001b[0;34m\u001b[0m\u001b[0;34m\u001b[0m\u001b[0m\n\u001b[1;32m      7\u001b[0m \u001b[0mplt\u001b[0m\u001b[0;34m.\u001b[0m\u001b[0mlegend\u001b[0m\u001b[0;34m(\u001b[0m\u001b[0;34m)\u001b[0m\u001b[0;34m\u001b[0m\u001b[0;34m\u001b[0m\u001b[0m\n",
      "\u001b[0;32m~/anaconda3/lib/python3.8/site-packages/matplotlib/pyplot.py\u001b[0m in \u001b[0;36mhist\u001b[0;34m(x, bins, range, density, weights, cumulative, bottom, histtype, align, orientation, rwidth, log, color, label, stacked, data, **kwargs)\u001b[0m\n\u001b[1;32m   2683\u001b[0m         \u001b[0morientation\u001b[0m\u001b[0;34m=\u001b[0m\u001b[0;34m'vertical'\u001b[0m\u001b[0;34m,\u001b[0m \u001b[0mrwidth\u001b[0m\u001b[0;34m=\u001b[0m\u001b[0;32mNone\u001b[0m\u001b[0;34m,\u001b[0m \u001b[0mlog\u001b[0m\u001b[0;34m=\u001b[0m\u001b[0;32mFalse\u001b[0m\u001b[0;34m,\u001b[0m \u001b[0mcolor\u001b[0m\u001b[0;34m=\u001b[0m\u001b[0;32mNone\u001b[0m\u001b[0;34m,\u001b[0m\u001b[0;34m\u001b[0m\u001b[0;34m\u001b[0m\u001b[0m\n\u001b[1;32m   2684\u001b[0m         label=None, stacked=False, *, data=None, **kwargs):\n\u001b[0;32m-> 2685\u001b[0;31m     return gca().hist(\n\u001b[0m\u001b[1;32m   2686\u001b[0m         \u001b[0mx\u001b[0m\u001b[0;34m,\u001b[0m \u001b[0mbins\u001b[0m\u001b[0;34m=\u001b[0m\u001b[0mbins\u001b[0m\u001b[0;34m,\u001b[0m \u001b[0mrange\u001b[0m\u001b[0;34m=\u001b[0m\u001b[0mrange\u001b[0m\u001b[0;34m,\u001b[0m \u001b[0mdensity\u001b[0m\u001b[0;34m=\u001b[0m\u001b[0mdensity\u001b[0m\u001b[0;34m,\u001b[0m \u001b[0mweights\u001b[0m\u001b[0;34m=\u001b[0m\u001b[0mweights\u001b[0m\u001b[0;34m,\u001b[0m\u001b[0;34m\u001b[0m\u001b[0;34m\u001b[0m\u001b[0m\n\u001b[1;32m   2687\u001b[0m         \u001b[0mcumulative\u001b[0m\u001b[0;34m=\u001b[0m\u001b[0mcumulative\u001b[0m\u001b[0;34m,\u001b[0m \u001b[0mbottom\u001b[0m\u001b[0;34m=\u001b[0m\u001b[0mbottom\u001b[0m\u001b[0;34m,\u001b[0m \u001b[0mhisttype\u001b[0m\u001b[0;34m=\u001b[0m\u001b[0mhisttype\u001b[0m\u001b[0;34m,\u001b[0m\u001b[0;34m\u001b[0m\u001b[0;34m\u001b[0m\u001b[0m\n",
      "\u001b[0;32m~/anaconda3/lib/python3.8/site-packages/matplotlib/__init__.py\u001b[0m in \u001b[0;36minner\u001b[0;34m(ax, data, *args, **kwargs)\u001b[0m\n\u001b[1;32m   1445\u001b[0m     \u001b[0;32mdef\u001b[0m \u001b[0minner\u001b[0m\u001b[0;34m(\u001b[0m\u001b[0max\u001b[0m\u001b[0;34m,\u001b[0m \u001b[0;34m*\u001b[0m\u001b[0margs\u001b[0m\u001b[0;34m,\u001b[0m \u001b[0mdata\u001b[0m\u001b[0;34m=\u001b[0m\u001b[0;32mNone\u001b[0m\u001b[0;34m,\u001b[0m \u001b[0;34m**\u001b[0m\u001b[0mkwargs\u001b[0m\u001b[0;34m)\u001b[0m\u001b[0;34m:\u001b[0m\u001b[0;34m\u001b[0m\u001b[0;34m\u001b[0m\u001b[0m\n\u001b[1;32m   1446\u001b[0m         \u001b[0;32mif\u001b[0m \u001b[0mdata\u001b[0m \u001b[0;32mis\u001b[0m \u001b[0;32mNone\u001b[0m\u001b[0;34m:\u001b[0m\u001b[0;34m\u001b[0m\u001b[0;34m\u001b[0m\u001b[0m\n\u001b[0;32m-> 1447\u001b[0;31m             \u001b[0;32mreturn\u001b[0m \u001b[0mfunc\u001b[0m\u001b[0;34m(\u001b[0m\u001b[0max\u001b[0m\u001b[0;34m,\u001b[0m \u001b[0;34m*\u001b[0m\u001b[0mmap\u001b[0m\u001b[0;34m(\u001b[0m\u001b[0msanitize_sequence\u001b[0m\u001b[0;34m,\u001b[0m \u001b[0margs\u001b[0m\u001b[0;34m)\u001b[0m\u001b[0;34m,\u001b[0m \u001b[0;34m**\u001b[0m\u001b[0mkwargs\u001b[0m\u001b[0;34m)\u001b[0m\u001b[0;34m\u001b[0m\u001b[0;34m\u001b[0m\u001b[0m\n\u001b[0m\u001b[1;32m   1448\u001b[0m \u001b[0;34m\u001b[0m\u001b[0m\n\u001b[1;32m   1449\u001b[0m         \u001b[0mbound\u001b[0m \u001b[0;34m=\u001b[0m \u001b[0mnew_sig\u001b[0m\u001b[0;34m.\u001b[0m\u001b[0mbind\u001b[0m\u001b[0;34m(\u001b[0m\u001b[0max\u001b[0m\u001b[0;34m,\u001b[0m \u001b[0;34m*\u001b[0m\u001b[0margs\u001b[0m\u001b[0;34m,\u001b[0m \u001b[0;34m**\u001b[0m\u001b[0mkwargs\u001b[0m\u001b[0;34m)\u001b[0m\u001b[0;34m\u001b[0m\u001b[0;34m\u001b[0m\u001b[0m\n",
      "\u001b[0;32m~/anaconda3/lib/python3.8/site-packages/matplotlib/axes/_axes.py\u001b[0m in \u001b[0;36mhist\u001b[0;34m(self, x, bins, range, density, weights, cumulative, bottom, histtype, align, orientation, rwidth, log, color, label, stacked, **kwargs)\u001b[0m\n\u001b[1;32m   6813\u001b[0m             \u001b[0;32mif\u001b[0m \u001b[0mpatch\u001b[0m\u001b[0;34m:\u001b[0m\u001b[0;34m\u001b[0m\u001b[0;34m\u001b[0m\u001b[0m\n\u001b[1;32m   6814\u001b[0m                 \u001b[0mp\u001b[0m \u001b[0;34m=\u001b[0m \u001b[0mpatch\u001b[0m\u001b[0;34m[\u001b[0m\u001b[0;36m0\u001b[0m\u001b[0;34m]\u001b[0m\u001b[0;34m\u001b[0m\u001b[0;34m\u001b[0m\u001b[0m\n\u001b[0;32m-> 6815\u001b[0;31m                 \u001b[0mp\u001b[0m\u001b[0;34m.\u001b[0m\u001b[0mupdate\u001b[0m\u001b[0;34m(\u001b[0m\u001b[0mkwargs\u001b[0m\u001b[0;34m)\u001b[0m\u001b[0;34m\u001b[0m\u001b[0;34m\u001b[0m\u001b[0m\n\u001b[0m\u001b[1;32m   6816\u001b[0m                 \u001b[0;32mif\u001b[0m \u001b[0mlbl\u001b[0m \u001b[0;32mis\u001b[0m \u001b[0;32mnot\u001b[0m \u001b[0;32mNone\u001b[0m\u001b[0;34m:\u001b[0m\u001b[0;34m\u001b[0m\u001b[0;34m\u001b[0m\u001b[0m\n\u001b[1;32m   6817\u001b[0m                     \u001b[0mp\u001b[0m\u001b[0;34m.\u001b[0m\u001b[0mset_label\u001b[0m\u001b[0;34m(\u001b[0m\u001b[0mlbl\u001b[0m\u001b[0;34m)\u001b[0m\u001b[0;34m\u001b[0m\u001b[0;34m\u001b[0m\u001b[0m\n",
      "\u001b[0;32m~/anaconda3/lib/python3.8/site-packages/matplotlib/artist.py\u001b[0m in \u001b[0;36mupdate\u001b[0;34m(self, props)\u001b[0m\n\u001b[1;32m    994\u001b[0m                     \u001b[0mfunc\u001b[0m \u001b[0;34m=\u001b[0m \u001b[0mgetattr\u001b[0m\u001b[0;34m(\u001b[0m\u001b[0mself\u001b[0m\u001b[0;34m,\u001b[0m \u001b[0;34mf\"set_{k}\"\u001b[0m\u001b[0;34m,\u001b[0m \u001b[0;32mNone\u001b[0m\u001b[0;34m)\u001b[0m\u001b[0;34m\u001b[0m\u001b[0;34m\u001b[0m\u001b[0m\n\u001b[1;32m    995\u001b[0m                     \u001b[0;32mif\u001b[0m \u001b[0;32mnot\u001b[0m \u001b[0mcallable\u001b[0m\u001b[0;34m(\u001b[0m\u001b[0mfunc\u001b[0m\u001b[0;34m)\u001b[0m\u001b[0;34m:\u001b[0m\u001b[0;34m\u001b[0m\u001b[0;34m\u001b[0m\u001b[0m\n\u001b[0;32m--> 996\u001b[0;31m                         raise AttributeError(f\"{type(self).__name__!r} object \"\n\u001b[0m\u001b[1;32m    997\u001b[0m                                              f\"has no property {k!r}\")\n\u001b[1;32m    998\u001b[0m                     \u001b[0mret\u001b[0m\u001b[0;34m.\u001b[0m\u001b[0mappend\u001b[0m\u001b[0;34m(\u001b[0m\u001b[0mfunc\u001b[0m\u001b[0;34m(\u001b[0m\u001b[0mv\u001b[0m\u001b[0;34m)\u001b[0m\u001b[0;34m)\u001b[0m\u001b[0;34m\u001b[0m\u001b[0;34m\u001b[0m\u001b[0m\n",
      "\u001b[0;31mAttributeError\u001b[0m: 'Rectangle' object has no property 'normed'"
     ]
    },
    {
     "data": {
      "image/png": "[encoded data removed]",
      "text/plain": [
       "<Figure size 432x288 with 1 Axes>"
      ]
     },
     "metadata": {
      "needs_background": "light"
     },
     "output_type": "display_data"
    }
   ],
   "source": [
    "N = 1000000\n",
    "k, X = sample_half_normal(N)\n",
    "1000000/k\n",
    "x = np.linspace(0,6,10000)\n",
    "plt.hist(X[0:k], bins=50, normed=True, label=r\"Stat\");\n",
    "plt.plot(x,np.sqrt(2/np.pi)*np.exp(-x**2/2), label=r\"PDF\")\n",
    "plt.legend()\n",
    "plt.xlabel(r\"Half Normal Distribution Samples Produced by AR Method\")\n",
    "plt.savefig('half_normal.pdf')"
   ]
  },
  {
   "cell_type": "markdown",
   "metadata": {},
   "source": [
    "结果匹配一致。然后下面将其改造为标准正态分布。"
   ]
  },
  {
   "cell_type": "code",
   "execution_count": null,
   "metadata": {},
   "outputs": [],
   "source": [
    "for i in range(k):\n",
    "    w = np.random.rand()\n",
    "    if w > 0.5:\n",
    "        X[i] = -X[i]"
   ]
  },
  {
   "cell_type": "code",
   "execution_count": null,
   "metadata": {},
   "outputs": [],
   "source": [
    "x = np.linspace(-6,6,10000)\n",
    "plt.hist(X[0:k], bins=50, normed=True, label=\"Stat. of the Sampling\");\n",
    "plt.plot(x,1/np.sqrt(2*np.pi)*np.exp(-x**2/2))"
   ]
  },
  {
   "cell_type": "markdown",
   "metadata": {},
   "source": [
    "为防止重复抽取，应该直接在AR抽取中直接产生标准正态分布更好。"
   ]
  },
  {
   "cell_type": "code",
   "execution_count": null,
   "metadata": {},
   "outputs": [],
   "source": [
    "def sample_normal(N):\n",
    "# N, 实际采样数\n",
    "    k = 0  # 实际接受总数\n",
    "    U = np.random.rand(N)  # 产生均匀分布\n",
    "    X = [-np.log(u) for u in U]  # 产生服从h的随机变量X\n",
    "    G = [np.exp(-(x-1)**2/2) for x in X]   # 计算g(X)\n",
    "    U = np.random.rand(N)  # 再次产生均匀分布\n",
    "    for i in range(N):\n",
    "        if U[i] <= G[i]:  # 在g发生的条件下接受\n",
    "            w = np.random.rand()\n",
    "            if w <= 0.5:\n",
    "                X[k] = X[i]\n",
    "            else:\n",
    "                X[k] = -X[i]\n",
    "            k = k + 1\n",
    "    return k, X"
   ]
  },
  {
   "cell_type": "code",
   "execution_count": null,
   "metadata": {},
   "outputs": [],
   "source": [
    "N = 1000000\n",
    "k, X = sample_normal(N)\n",
    "N/k\n",
    "x = np.linspace(-6,6,10000)\n",
    "plt.hist(X[0:k], bins=50,normed=True, label=\"Stat\");\n",
    "plt.plot(x,1/np.sqrt(2*np.pi)*np.exp(-x**2/2), label=r\"PDF\")\n",
    "plt.legend()\n",
    "plt.xlabel(r\"Normal Distribution Samples Produced by AR Method\")\n",
    "plt.savefig('normal.pdf')"
   ]
  },
  {
   "cell_type": "markdown",
   "metadata": {},
   "source": [
    "注意这个统计图本身是不对称的，因为有概率涨落。但是进一步加细可以看到，其“极限”和目标PDF匹配的很好。"
   ]
  },
  {
   "cell_type": "code",
   "execution_count": null,
   "metadata": {},
   "outputs": [],
   "source": [
    "plt.hist(X[0:k], bins=100,normed=True, label=\"Stat\");\n",
    "plt.plot(x,1/np.sqrt(2*np.pi)*np.exp(-x**2/2), label=r\"PDF\")"
   ]
  },
  {
   "cell_type": "markdown",
   "metadata": {},
   "source": [
    "现在回到半正态分布的例子。我们可以画出接受和拒绝区域。而常数$c$就是接受区域的面积（总面积是１）。"
   ]
  },
  {
   "cell_type": "code",
   "execution_count": null,
   "metadata": {},
   "outputs": [],
   "source": [
    "x = np.linspace(0,1,10000)\n",
    "z = -np.log(x)\n",
    "u = np.exp(-(z - 1)**2 / 2)\n",
    "plt.plot(x,u,label=r'$g(-\\log(x))$')\n",
    "plt.xlim(0.0, 1.0)\n",
    "plt.ylim(0.0, 1.0)\n",
    "#plt.axis(\"equal\")\n",
    "axs = plt.gca()\n",
    "axs.set_aspect('equal', 'box')\n",
    "plt.text(0.65, 0.9, r'reject',fontsize=\"12\")\n",
    "plt.text(0.05, 0.9, r'reject',fontsize=\"12\")\n",
    "plt.text(0.5, 0.5, r'accept',fontsize=\"12\")\n",
    "plt.legend(fontsize=\"12\")\n",
    "plt.xlabel(r\"x\",fontsize=\"12\")\n",
    "plt.ylabel(r\"u\",fontsize=\"12\")\n",
    "plt.savefig('AR_region.pdf')"
   ]
  },
  {
   "cell_type": "markdown",
   "metadata": {},
   "source": [
    "如果我们有办法快速产生指数分布，比如我们直接调用Python提供的指数分布生成函数，那么下面的版本有可能比原始版本代价更低。当然这里速度的变化主要是Python提供的指数分布生成程序实在太快了。"
   ]
  },
  {
   "cell_type": "code",
   "execution_count": null,
   "metadata": {},
   "outputs": [],
   "source": [
    "def sample_half_normal_v2(N):\n",
    "# N, 实际采样数\n",
    "    k = 0  # 实际接受总数\n",
    "    X = stats.expon.rvs(size=N)  \n",
    "    G = stats.expon.rvs(size=N)  # 产生两个独立的beta(1)\n",
    "    for i in range(N):\n",
    "        if (X[i] - 1)**2/2 <= G[i]:  # 等价于在g的条件下接受\n",
    "            X[k] = X[i]   # 将采样记下来\n",
    "            k = k + 1\n",
    "    return k, X"
   ]
  },
  {
   "cell_type": "code",
   "execution_count": null,
   "metadata": {},
   "outputs": [],
   "source": [
    "N = 1000000\n",
    "k, X = sample_half_normal_v2(N)\n",
    "1000000/k\n",
    "x = np.linspace(0,6,10000)\n",
    "plt.hist(X[0:k], bins=50, normed=True, label=r\"Stat\");\n",
    "plt.plot(x,np.sqrt(2/np.pi)*np.exp(-x**2/2), label=r\"PDF\")\n",
    "plt.legend()\n",
    "plt.xlabel(r\"Half Normal Distribution Samples Produced by AR Method\")"
   ]
  },
  {
   "cell_type": "code",
   "execution_count": null,
   "metadata": {},
   "outputs": [],
   "source": [
    "x = np.linspace(0,1,10000)\n",
    "z = -np.log(x)\n",
    "g = np.exp(-(z - 1)**2 / 2)\n",
    "gl = 1 - (z - 1)**2 / 2\n",
    "gu = 1 - (z - 1)**2 / 2 + (z - 1)**4 / 8\n",
    "plt.plot(x,u,label=r'$g$')\n",
    "plt.plot(x,gl,label=r'$g_L$')\n",
    "plt.plot(x,gu,label=r'$g_U$')\n",
    "plt.xlim(0.0, 1.0)\n",
    "plt.ylim(0.0, 1.0)\n",
    "axs = plt.gca()\n",
    "axs.set_aspect('equal', 'box')\n",
    "plt.legend(fontsize=\"12\")\n",
    "plt.xlabel(r\"x\",fontsize=\"12\")\n",
    "plt.ylabel(r\"u\",fontsize=\"12\")\n",
    "plt.savefig('squeeze.pdf')"
   ]
  },
  {
   "cell_type": "markdown",
   "metadata": {},
   "source": [
    "## 正态分布抽取\n",
    "\n",
    "在本章最后，我们单独介绍一个特别重要的分布的抽样方法——正态分布。服从 $N(\\mu, \\sigma^2)$ 的正态分布相应的 PDF 为\n",
    "$$\n",
    "\\begin{equation}\n",
    "  f(z) = \\frac{1}{\\sqrt{2\\pi \\sigma^2}} e^{\\frac{-(z -\n",
    "      \\mu)^2}{2\\sigma^2}}, \\sigma^2 > 0, z \\in \\mathbb{R}.\n",
    "\\end{equation}\n",
    "$$\n",
    "关于正态分布的一些性质，大家应该是熟知的：\n",
    "+ 若 $U$ 服从正态分布 $N(0, 1) $，则 $Z = \\mu + \\sigma U$ 服从 $N(\\mu, \\sigma^2)$ 分布；\n",
    "+ 若 $Z_1, Z_2, \\cdots, Z_n$ 是分别服从 $N(\\mu_1, \\sigma_1^2), N(\\mu_2, \\sigma_2^2), \\cdots, N(\\mu_n, \\sigma_n^2)$ 的独立随机变量，则 $Z = Z_1 + Z_2 + \\cdots + Z_n$ 服从分布 $N(\\mu_1 + \\mu_2 + \\cdots + \\mu_n, \\sigma_1^2 + \\sigma_2^2 + \\cdots + \\sigma_n^2)$.\n",
    "根据以上的性质，我们知道我们只需要抽样生成 $N(0, 1)$ 就足够了。我们之前已经介绍了如何由 AR 法产生半正态分布，进而抽样改造成标准正态分布。下面我们再介绍两种简单的抽取方法。"
   ]
  },
  {
   "cell_type": "markdown",
   "metadata": {},
   "source": [
    "假设\n",
    "$$\n",
    "\\begin{equation}\n",
    "  Z_n = \\sqrt{12/n}(X_1 + X_2 + \\cdots + X_n),\n",
    "  \\label{eq::normal_naive}\n",
    "\\end{equation}\n",
    "$$\n",
    "其中 $X_i$ 是独立的服从 $U(-\\frac{1}{2}, \\frac{1}{2})$ 的随机变量，那么显然有对 $i = 1, 2, \\cdots, n$, $E[X_i] = 0$, 且\n",
    "$$\n",
    "D[X_i] = \\int_{-\\frac{1}{2}}^{\\frac{1}{2}}x^2 dx = \\frac{1}{12}.\n",
    "$$\n",
    "也即 $Z_n$ 的头两阶矩和 $N(0, 1)$ 一致。当 $n \\to \\infty$ 时，$Z_n \\sim N(0, 1)$. 如果我们取 $n = 12$，那么甚至连根号都不用计算了，但是这时我们发现 $Z_{12}$ 实际上分布在 $(-6, 6)$ 区间而不是 $\\mathbb{R}$. 这个方法只有在条件简陋的情况下可以用一下。"
   ]
  },
  {
   "cell_type": "markdown",
   "metadata": {},
   "source": [
    "第二个方法可以总结成一个定理，由Box and Muller在1958年提出：令随机变量 $U$ 和 $V$ 分别服从 $U(0, 1)$ 和 $E(1)$（表示参数为 1 的指数分布），那么\n",
    "$$\n",
    "  \\begin{equation}\n",
    "    X = \\sqrt{2 V}\\cos 2\\pi U\n",
    "    \\label{eq::normal_box_muller_xi}\n",
    "  \\end{equation}\n",
    "$$\n",
    "  和\n",
    "$$\n",
    "  \\begin{equation}\n",
    "    Y = \\sqrt{2 V}\\sin 2\\pi U\n",
    "    \\label{eq::normal_box_muller_eta}\n",
    "  \\end{equation}\n",
    "$$\n",
    "是服从 $N(0, 1)$ 的独立随机变量。\n",
    "\n",
    "**证明：** 注意到\n",
    "$$\n",
    "  f_U = 1, f_V = e^{-v}.\n",
    "$$\n",
    "再令\n",
    "$$\n",
    "  x = \\sqrt{2v}\\cos 2\\pi u, y = \\sqrt{2v}\\sin 2\\pi u,\n",
    "$$\n",
    "则有  \n",
    "$$\n",
    "2 v = x^2 + y^2\n",
    "$$\n",
    "和\n",
    "$$\n",
    "  \\tan 2 \\pi u =\\frac{y}{x}.\n",
    "$$\n",
    "因此 $X$ 和 $Y$ 的联合分布函数为\n",
    "$$\n",
    "\\begin{equation}\n",
    "    f_{X, Y}(x, y) = f_{U, V}(u(x, y), v(x,\n",
    "    y))\\left|\\frac{\\partial u}{\\partial x}\\frac{\\partial v}{\\partial\n",
    "      y} - \\frac{\\partial u}{\\partial y}\\frac{\\partial v}{\\partial\n",
    "      x}\\right| = \\frac{1}{2 \\pi}e^{-\\frac{x^2 + y^2}{2}}.\n",
    "  \\end{equation}\n",
    "$$\n",
    "则 $f_X$ 和 $f_Y$ 各自的边界分为标准正态分布。证毕。\n",
    "\n",
    "而当前已知生成正态分布最快的方法是由 Marsaglia 在 1964 年提出的rectangle-wedge-tail方法，并在 1972 年由 Ahrens 和 Dieter 修改成 RT 算法。但是他们的方法都需要准备大量的预制表格，这一系方法实现比较繁琐。在不用查表的情况下，生成正态分布最快的方法，它是由 Ahrens 和Dieter 在 1988 年提出的 NA 算法。有兴趣的同学可自行参阅 Fishman1995。"
   ]
  },
  {
   "cell_type": "markdown",
   "metadata": {},
   "source": [
    "\n"
   ]
  }
 ],
 "metadata": {
  "kernelspec": {
   "display_name": "Python 3",
   "language": "python",
   "name": "python3"
  },
  "language_info": {
   "codemirror_mode": {
    "name": "ipython",
    "version": 3
   },
   "file_extension": ".py",
   "mimetype": "text/x-python",
   "name": "python",
   "nbconvert_exporter": "python",
   "pygments_lexer": "ipython3",
   "version": "3.8.8"
  }
 },
 "nbformat": 4,
 "nbformat_minor": 2
}
