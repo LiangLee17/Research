{
 "cells": [
  {
   "cell_type": "code",
   "execution_count": 1,
   "id": "de90a411",
   "metadata": {},
   "outputs": [],
   "source": [
    "import numpy as np\n",
    "import scipy as sci\n",
    "from matplotlib import pyplot as plt"
   ]
  },
  {
   "cell_type": "code",
   "execution_count": 2,
   "id": "89a2ad5e",
   "metadata": {},
   "outputs": [],
   "source": [
    "L = 1.0"
   ]
  },
  {
   "cell_type": "code",
   "execution_count": 3,
   "id": "0773134e",
   "metadata": {},
   "outputs": [],
   "source": [
    "x0 = -L"
   ]
  },
  {
   "cell_type": "code",
   "execution_count": 4,
   "id": "be129252",
   "metadata": {},
   "outputs": [],
   "source": [
    "y0 = -L"
   ]
  },
  {
   "cell_type": "code",
   "execution_count": 5,
   "id": "618d6476",
   "metadata": {},
   "outputs": [],
   "source": [
    "x1 = L"
   ]
  },
  {
   "cell_type": "code",
   "execution_count": 6,
   "id": "fd726257",
   "metadata": {},
   "outputs": [],
   "source": [
    "y1 = L"
   ]
  },
  {
   "cell_type": "code",
   "execution_count": 7,
   "id": "8fc8e962",
   "metadata": {},
   "outputs": [],
   "source": [
    "n = 5"
   ]
  },
  {
   "cell_type": "code",
   "execution_count": 8,
   "id": "e809b6b2",
   "metadata": {},
   "outputs": [],
   "source": [
    "h = (2.0 * L) / (n + 1)"
   ]
  },
  {
   "cell_type": "code",
   "execution_count": 9,
   "id": "315cfbc4",
   "metadata": {},
   "outputs": [
    {
     "data": {
      "text/plain": [
       "0.3333333333333333"
      ]
     },
     "execution_count": 9,
     "metadata": {},
     "output_type": "execute_result"
    }
   ],
   "source": [
    "h"
   ]
  },
  {
   "cell_type": "code",
   "execution_count": 10,
   "id": "fc6de283",
   "metadata": {},
   "outputs": [],
   "source": [
    "idx = 18"
   ]
  },
  {
   "cell_type": "code",
   "execution_count": 14,
   "id": "98eb2f67",
   "metadata": {},
   "outputs": [
    {
     "data": {
      "text/plain": [
       "0.33333333333333326"
      ]
     },
     "execution_count": 14,
     "metadata": {},
     "output_type": "execute_result"
    }
   ],
   "source": [
    "y0 + (idx // n + 1) * h"
   ]
  },
  {
   "cell_type": "code",
   "execution_count": 17,
   "id": "b0f54a1d",
   "metadata": {},
   "outputs": [
    {
     "data": {
      "text/plain": [
       "0.33333333333333326"
      ]
     },
     "execution_count": 17,
     "metadata": {},
     "output_type": "execute_result"
    }
   ],
   "source": [
    "x0 + (idx % n + 1) * h"
   ]
  },
  {
   "cell_type": "code",
   "execution_count": 31,
   "id": "215acd65",
   "metadata": {},
   "outputs": [],
   "source": [
    "def gDofIdx2Pnt(x0, y0, n, h, di):\n",
    "    if di > n**2 - 1:\n",
    "        return (-999, -999)\n",
    "    x = x0 + (di % n + 1) * h\n",
    "    y = y0 + (di // n + 1) * h\n",
    "    return x, y"
   ]
  },
  {
   "cell_type": "code",
   "execution_count": 34,
   "id": "aa3c5adb",
   "metadata": {},
   "outputs": [],
   "source": [
    "(x, y) = gDofIdx2Pnt(x0, y0, n, h, 18)\n"
   ]
  },
  {
   "cell_type": "code",
   "execution_count": 35,
   "id": "82e602cf",
   "metadata": {},
   "outputs": [
    {
     "data": {
      "text/plain": [
       "0.33333333333333326"
      ]
     },
     "execution_count": 35,
     "metadata": {},
     "output_type": "execute_result"
    }
   ],
   "source": [
    "x"
   ]
  },
  {
   "cell_type": "code",
   "execution_count": 36,
   "id": "6cb2ab98",
   "metadata": {},
   "outputs": [],
   "source": [
    "def gEleIdx2PntIdx(n, ei):\n",
    "    if ei > (n - 1)**2 - 1:\n",
    "        return(-1, -1, -1, -1)\n",
    "    LB = ei + ei // (n - 1)\n",
    "    return [LB, LB + 1, LB + n + 1, LB + n]"
   ]
  },
  {
   "cell_type": "code",
   "execution_count": 38,
   "id": "eff11459",
   "metadata": {},
   "outputs": [],
   "source": [
    "lDofIdx = gEleIdx2PntIdx(n, 7)"
   ]
  },
  {
   "cell_type": "code",
   "execution_count": 39,
   "id": "0bef6c4b",
   "metadata": {},
   "outputs": [
    {
     "data": {
      "text/plain": [
       "8"
      ]
     },
     "execution_count": 39,
     "metadata": {},
     "output_type": "execute_result"
    }
   ],
   "source": [
    "lDofIdx[0]"
   ]
  },
  {
   "cell_type": "code",
   "execution_count": 40,
   "id": "0def4e76",
   "metadata": {},
   "outputs": [],
   "source": [
    "def Chi(xi, eta):\n",
    "    Chi1 = (xi - 1.0) * (eta - 1.0) / 4.0\n",
    "    Chi2 = -(xi + 1.0) * (eta - 1.0) / 4.0\n",
    "    Chi3 = (xi + 1.0) * (eta + 1.0) / 4.0\n",
    "    Chi4 = -(xi - 1.0) * (eta + 1.0) / 4.0\n",
    "    return [Chi1, Chi2, Chi3, Chi4]"
   ]
  },
  {
   "cell_type": "code",
   "execution_count": 41,
   "id": "32caf596",
   "metadata": {},
   "outputs": [],
   "source": [
    "def gradientChi(xi, eta):\n",
    "    Chi1xi = (eta - 1.0) / 4.0\n",
    "    Chi1eta = (xi - 1.0) / 4.0\n",
    "    Chi2xi = (1.0 - eta) / 4.0\n",
    "    Chi2eta = -(xi + 1.0) / 4.0\n",
    "    Chi3xi = (eta + 1.0) / 4.0\n",
    "    Chi3eta = (xi + 1.0) / 4.0\n",
    "    Chi4xi = -(eta + 1.0) / 4.0\n",
    "    Chi4eta = -(xi - 1.0) / 4.0\n",
    "    return [[Chi1xi, Chi1eta], [Chi2xi, Chi2eta], [Chi3xi, Chi3eta], [Chi4xi, Chi4eta]]"
   ]
  },
  {
   "cell_type": "code",
   "execution_count": 48,
   "id": "9ecabf05",
   "metadata": {},
   "outputs": [],
   "source": [
    "def gEleIdx2Pnt(n, ei):\n",
    "    gdi = gEleIdx2PntIdx(n, ei)\n",
    "    pnts = np.zeros((4, 2), dtype = float)\n",
    "    k = 0\n",
    "    for gi in gdi:\n",
    "        pnts[k][0], pnts[k][1] = gDofIdx2Pnt(x0, y0, n, h, gi)\n",
    "        k = k + 1    \n",
    "    return pnts"
   ]
  },
  {
   "cell_type": "code",
   "execution_count": 49,
   "id": "0ebc2c5d",
   "metadata": {},
   "outputs": [
    {
     "data": {
      "text/plain": [
       "array([[ 0.33333333, -0.33333333],\n",
       "       [ 0.66666667, -0.33333333],\n",
       "       [ 0.66666667,  0.        ],\n",
       "       [ 0.33333333,  0.        ]])"
      ]
     },
     "execution_count": 49,
     "metadata": {},
     "output_type": "execute_result"
    }
   ],
   "source": [
    "gEleIdx2Pnt(5, 7)"
   ]
  },
  {
   "cell_type": "code",
   "execution_count": 50,
   "id": "4c541bec",
   "metadata": {},
   "outputs": [],
   "source": [
    "?np.dot\n"
   ]
  },
  {
   "cell_type": "code",
   "execution_count": null,
   "id": "34bddcfc",
   "metadata": {},
   "outputs": [],
   "source": []
  }
 ],
 "metadata": {
  "kernelspec": {
   "display_name": "Python 3",
   "language": "python",
   "name": "python3"
  },
  "language_info": {
   "codemirror_mode": {
    "name": "ipython",
    "version": 3
   },
   "file_extension": ".py",
   "mimetype": "text/x-python",
   "name": "python",
   "nbconvert_exporter": "python",
   "pygments_lexer": "ipython3",
   "version": "3.7.9"
  }
 },
 "nbformat": 4,
 "nbformat_minor": 5
}
