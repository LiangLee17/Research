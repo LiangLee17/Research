{
 "cells": [
  {
   "cell_type": "code",
   "execution_count": 1,
   "metadata": {},
   "outputs": [],
   "source": [
    "import numpy as np\n",
    "from matplotlib import pyplot as plt\n",
    "from mpl_toolkits.mplot3d import Axes3D"
   ]
  },
  {
   "cell_type": "code",
   "execution_count": 2,
   "metadata": {},
   "outputs": [],
   "source": [
    "L = 1.0\n",
    "n = 10\n",
    "x0 = -L\n",
    "y0 = -L"
   ]
  },
  {
   "cell_type": "code",
   "execution_count": 3,
   "metadata": {},
   "outputs": [],
   "source": [
    "h = (2.0 * L) / (n - 1)"
   ]
  },
  {
   "cell_type": "code",
   "execution_count": 4,
   "metadata": {},
   "outputs": [],
   "source": [
    "#def sourcef(x, y):\n",
    "#    return 2 * np.pi * np.pi * np.sin(np.pi * x) * np.sin(np.pi * y)\n",
    "#def sourcef(x, y):\n",
    "#    return 2 * np.pi * np.pi * np.cos(np.pi * x) * np.cos(np.pi * y)\n",
    "def sourcef(x, y):\n",
    "    return 1"
   ]
  },
  {
   "cell_type": "code",
   "execution_count": 5,
   "metadata": {},
   "outputs": [],
   "source": [
    "#def boundary(x, y):\n",
    "#    return np.sin(np.pi * x) * np.sin(np.pi * y)\n",
    "#def boundary(x, y):\n",
    "#    return np.cos(np.pi * x) * np.cos(np.pi * y)\n",
    "def boundary(x, y):\n",
    "    return 0"
   ]
  },
  {
   "cell_type": "code",
   "execution_count": 6,
   "metadata": {},
   "outputs": [],
   "source": [
    "def boundaryIdx(n):\n",
    "    idx = list(range(n))\n",
    "    for i in range(n - 2):\n",
    "        idx.append((i + 1) * n)\n",
    "        idx.append((i + 2) * n - 1)\n",
    "    idx.extend(list(range(n ** 2 - n, n ** 2)))\n",
    "    return idx"
   ]
  },
  {
   "cell_type": "code",
   "execution_count": 7,
   "metadata": {},
   "outputs": [],
   "source": [
    "def gDofIdx2Pnt(x0, y0, n, h, di):\n",
    "    if di > n**2 - 1:\n",
    "        return (-999, -999)\n",
    "    x = x0 + di % n * h\n",
    "    y = y0 + di // n * h\n",
    "    return x, y"
   ]
  },
  {
   "cell_type": "code",
   "execution_count": 8,
   "metadata": {},
   "outputs": [],
   "source": [
    "def gEleIdx2PntIdx(n, ei):\n",
    "    if ei > (n - 1)**2 - 1:\n",
    "        return(-1, -1, -1, -1)\n",
    "    LB = ei + ei // (n - 1)\n",
    "    return [LB, LB + 1, LB + n + 1, LB + n]"
   ]
  },
  {
   "cell_type": "code",
   "execution_count": 9,
   "metadata": {},
   "outputs": [],
   "source": [
    "def gEleIdx2Pnt(n, ei):\n",
    "    gdi = gEleIdx2PntIdx(n, ei)\n",
    "    pnts = np.zeros((4, 2), dtype = float)\n",
    "    k = 0\n",
    "    for gi in gdi:\n",
    "        pnts[k][0], pnts[k][1] = gDofIdx2Pnt(x0, y0, n, h, gi)\n",
    "        k = k + 1    \n",
    "    return pnts"
   ]
  },
  {
   "cell_type": "code",
   "execution_count": 10,
   "metadata": {},
   "outputs": [],
   "source": [
    "def Chi(xi, eta):\n",
    "    Chi1 = (xi - 1.0) * (eta - 1.0) / 4.0\n",
    "    Chi2 = -(xi + 1.0) * (eta - 1.0) / 4.0\n",
    "    Chi3 = (xi + 1.0) * (eta + 1.0) / 4.0\n",
    "    Chi4 = -(xi - 1.0) * (eta + 1.0) / 4.0\n",
    "    return [Chi1, Chi2, Chi3, Chi4]"
   ]
  },
  {
   "cell_type": "code",
   "execution_count": 11,
   "metadata": {},
   "outputs": [],
   "source": [
    "def gradientChi(xi, eta):\n",
    "    Chi1xi = (eta - 1.0) / 4.0\n",
    "    Chi1eta = (xi - 1.0) / 4.0\n",
    "    Chi2xi = (1.0 - eta) / 4.0\n",
    "    Chi2eta = -(xi + 1.0) / 4.0\n",
    "    Chi3xi = (eta + 1.0) / 4.0\n",
    "    Chi3eta = (xi + 1.0) / 4.0\n",
    "    Chi4xi = -(eta + 1.0) / 4.0\n",
    "    Chi4eta = -(xi - 1.0) / 4.0\n",
    "    return np.array([[Chi1xi, Chi2xi, Chi3xi, Chi4xi], [Chi1eta, Chi2eta, Chi3eta, Chi4eta]]) "
   ]
  },
  {
   "cell_type": "code",
   "execution_count": 12,
   "metadata": {},
   "outputs": [],
   "source": [
    "def Jacobi(n, ei, xi, eta):\n",
    "    return np.dot(gradientChi(xi, eta), gEleIdx2Pnt(n, ei))"
   ]
  },
  {
   "cell_type": "code",
   "execution_count": 13,
   "metadata": {},
   "outputs": [],
   "source": [
    "GaussPnt = [[-0.577350269189626, -0.577350269189626, 1.0],\n",
    "            [0.577350269189626, -0.577350269189626, 1.0],\n",
    "            [0.577350269189626, 0.577350269189626, 1.0],\n",
    "            [-0.577350269189626, 0.577350269189626, 1.0]]"
   ]
  },
  {
   "cell_type": "code",
   "execution_count": 14,
   "metadata": {},
   "outputs": [],
   "source": [
    "nElm = (n - 1) ** 2\n",
    "lA = np.zeros((nElm, 4, 4), dtype = float)\n",
    "for ei in range(nElm):\n",
    "    for i in range(4):\n",
    "        for j in range(4):\n",
    "            for k in range(4):\n",
    "                xi = GaussPnt[k][0]\n",
    "                eta = GaussPnt[k][1]\n",
    "                w = GaussPnt[k][2]\n",
    "                J = Jacobi(n, ei, xi, eta)\n",
    "                invJ = np.array([[J[1,1], -J[0,1]], [-J[1,0], J[0,0]]]) / np.linalg.det(J)\n",
    "                lA[ei][i][j] += w * np.linalg.det(J) * np.dot(np.dot(gradientChi(xi, eta)[:, i], invJ.T), np.dot(gradientChi(xi, eta)[:, j], invJ.T))                                            "
   ]
  },
  {
   "cell_type": "code",
   "execution_count": 15,
   "metadata": {},
   "outputs": [],
   "source": [
    "lf = np.zeros((nElm, 4), dtype = float)\n",
    "for ei in range(nElm):\n",
    "    for i in range(4):\n",
    "        for k in range(4):\n",
    "            xi = GaussPnt[k][0]\n",
    "            eta = GaussPnt[k][1]\n",
    "            w = GaussPnt[k][2]\n",
    "            J = Jacobi(n, ei, xi, eta)\n",
    "            x = (xi + 1) / 2 * h + gEleIdx2Pnt(n, ei)[0][0]\n",
    "            y = (eta + 1) / 2 * h + gEleIdx2Pnt(n, ei)[0][1]\n",
    "            lf[ei][i] += w * sourcef(x,y) * Chi(xi, eta)[i] * np.linalg.det(J)"
   ]
  },
  {
   "cell_type": "code",
   "execution_count": 16,
   "metadata": {},
   "outputs": [],
   "source": [
    "nDof = n ** 2\n",
    "A = np.zeros((nDof, nDof), dtype = float)\n",
    "f = np.zeros(nDof, dtype = float)\n",
    "for ei in range(nElm):\n",
    "    for j in range(4):\n",
    "        for i in range(4):\n",
    "            A[gEleIdx2PntIdx(n, ei)[i], gEleIdx2PntIdx(n, ei)[j]] += lA[ei, i, j]\n",
    "        f[gEleIdx2PntIdx(n, ei)[j]] += lf[ei, j]"
   ]
  },
  {
   "cell_type": "code",
   "execution_count": 17,
   "metadata": {},
   "outputs": [],
   "source": [
    "bIdx = boundaryIdx(n)\n",
    "for i in bIdx:\n",
    "    pnt = gDofIdx2Pnt(x0, y0, n, h, i)\n",
    "    value = boundary(pnt[0], pnt[1])\n",
    "    f = f - A[:, i] * value\n",
    "    A[i, :] = 0\n",
    "    A[:, i] = 0\n",
    "    A[i, i] = 1\n",
    "    f[i] = value"
   ]
  },
  {
   "cell_type": "code",
   "execution_count": 18,
   "metadata": {},
   "outputs": [],
   "source": [
    "u = np.linalg.solve(A, f)"
   ]
  },
  {
   "cell_type": "code",
   "execution_count": 19,
   "metadata": {},
   "outputs": [
    {
     "data": {
      "text/plain": [
       "array([[1., 0., 0., ..., 0., 0., 0.],\n",
       "       [0., 1., 0., ..., 0., 0., 0.],\n",
       "       [0., 0., 1., ..., 0., 0., 0.],\n",
       "       ...,\n",
       "       [0., 0., 0., ..., 1., 0., 0.],\n",
       "       [0., 0., 0., ..., 0., 1., 0.],\n",
       "       [0., 0., 0., ..., 0., 0., 1.]])"
      ]
     },
     "execution_count": 19,
     "metadata": {},
     "output_type": "execute_result"
    }
   ],
   "source": [
    "A"
   ]
  },
  {
   "cell_type": "code",
   "execution_count": 20,
   "metadata": {},
   "outputs": [
    {
     "data": {
      "text/plain": [
       "array([0.        , 0.        , 0.        , 0.        , 0.        ,\n",
       "       0.        , 0.        , 0.        , 0.        , 0.        ,\n",
       "       0.        , 0.04938272, 0.04938272, 0.04938272, 0.04938272,\n",
       "       0.04938272, 0.04938272, 0.04938272, 0.04938272, 0.        ,\n",
       "       0.        , 0.04938272, 0.04938272, 0.04938272, 0.04938272,\n",
       "       0.04938272, 0.04938272, 0.04938272, 0.04938272, 0.        ,\n",
       "       0.        , 0.04938272, 0.04938272, 0.04938272, 0.04938272,\n",
       "       0.04938272, 0.04938272, 0.04938272, 0.04938272, 0.        ,\n",
       "       0.        , 0.04938272, 0.04938272, 0.04938272, 0.04938272,\n",
       "       0.04938272, 0.04938272, 0.04938272, 0.04938272, 0.        ,\n",
       "       0.        , 0.04938272, 0.04938272, 0.04938272, 0.04938272,\n",
       "       0.04938272, 0.04938272, 0.04938272, 0.04938272, 0.        ,\n",
       "       0.        , 0.04938272, 0.04938272, 0.04938272, 0.04938272,\n",
       "       0.04938272, 0.04938272, 0.04938272, 0.04938272, 0.        ,\n",
       "       0.        , 0.04938272, 0.04938272, 0.04938272, 0.04938272,\n",
       "       0.04938272, 0.04938272, 0.04938272, 0.04938272, 0.        ,\n",
       "       0.        , 0.04938272, 0.04938272, 0.04938272, 0.04938272,\n",
       "       0.04938272, 0.04938272, 0.04938272, 0.04938272, 0.        ,\n",
       "       0.        , 0.        , 0.        , 0.        , 0.        ,\n",
       "       0.        , 0.        , 0.        , 0.        , 0.        ])"
      ]
     },
     "execution_count": 20,
     "metadata": {},
     "output_type": "execute_result"
    }
   ],
   "source": [
    "f"
   ]
  },
  {
   "cell_type": "code",
   "execution_count": 21,
   "metadata": {},
   "outputs": [
    {
     "data": {
      "text/plain": [
       "array([0.        , 0.        , 0.        , 0.        , 0.        ,\n",
       "       0.        , 0.        , 0.        , 0.        , 0.        ,\n",
       "       0.        , 0.06296484, 0.09786006, 0.11778537, 0.1269456 ,\n",
       "       0.1269456 , 0.11778537, 0.09786006, 0.06296484, 0.        ,\n",
       "       0.        , 0.09786006, 0.15985045, 0.19627162, 0.21320704,\n",
       "       0.21320704, 0.19627162, 0.15985045, 0.09786006, 0.        ,\n",
       "       0.        , 0.11778537, 0.19627162, 0.24385649, 0.26624823,\n",
       "       0.26624823, 0.24385649, 0.19627162, 0.11778537, 0.        ,\n",
       "       0.        , 0.1269456 , 0.21320704, 0.26624823, 0.29139951,\n",
       "       0.29139951, 0.26624823, 0.21320704, 0.1269456 , 0.        ,\n",
       "       0.        , 0.1269456 , 0.21320704, 0.26624823, 0.29139951,\n",
       "       0.29139951, 0.26624823, 0.21320704, 0.1269456 , 0.        ,\n",
       "       0.        , 0.11778537, 0.19627162, 0.24385649, 0.26624823,\n",
       "       0.26624823, 0.24385649, 0.19627162, 0.11778537, 0.        ,\n",
       "       0.        , 0.09786006, 0.15985045, 0.19627162, 0.21320704,\n",
       "       0.21320704, 0.19627162, 0.15985045, 0.09786006, 0.        ,\n",
       "       0.        , 0.06296484, 0.09786006, 0.11778537, 0.1269456 ,\n",
       "       0.1269456 , 0.11778537, 0.09786006, 0.06296484, 0.        ,\n",
       "       0.        , 0.        , 0.        , 0.        , 0.        ,\n",
       "       0.        , 0.        , 0.        , 0.        , 0.        ])"
      ]
     },
     "execution_count": 21,
     "metadata": {},
     "output_type": "execute_result"
    }
   ],
   "source": [
    "u"
   ]
  },
  {
   "cell_type": "code",
   "execution_count": 22,
   "metadata": {},
   "outputs": [
    {
     "data": {
      "image/png": "[encoded data removed]",
      "text/plain": [
       "<Figure size 432x288 with 1 Axes>"
      ]
     },
     "metadata": {
      "needs_background": "light"
     },
     "output_type": "display_data"
    }
   ],
   "source": [
    "figure = plt.figure()\n",
    "ax = Axes3D(figure)\n",
    "X = np.arange(x0, x0 + 2 * L + h / 2, h)\n",
    "Y = np.arange(y0, y0 + 2 * L + h / 2, h)\n",
    "X, Y = np.meshgrid(X, Y)\n",
    "Z = u.reshape(n,n)\n",
    "ax.plot_surface(X, Y, Z, rstride = 1, cstride = 1, cmap = 'rainbow')\n",
    "plt.show()"
   ]
  }
 ],
 "metadata": {
  "kernelspec": {
   "display_name": "Python 3",
   "language": "python",
   "name": "python3"
  },
  "language_info": {
   "codemirror_mode": {
    "name": "ipython",
    "version": 3
   },
   "file_extension": ".py",
   "mimetype": "text/x-python",
   "name": "python",
   "nbconvert_exporter": "python",
   "pygments_lexer": "ipython3",
   "version": "3.7.4"
  }
 },
 "nbformat": 4,
 "nbformat_minor": 2
}
